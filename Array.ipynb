{
 "cells": [
  {
   "cell_type": "code",
   "execution_count": null,
   "id": "3a0bad02",
   "metadata": {},
   "outputs": [],
   "source": [
    "#python collection\n",
    "# list\n",
    "# tuple\n",
    "# dict\n",
    "# set\n",
    "# ctrl + /\n"
   ]
  },
  {
   "cell_type": "code",
   "execution_count": 4,
   "id": "58fe6c78",
   "metadata": {},
   "outputs": [
    {
     "name": "stdout",
     "output_type": "stream",
     "text": [
      "1\n",
      "[[1, 3, 5, 7], [4, 2, 6, 8], [18, 5, 9, 2], [0, 0, 0]]\n"
     ]
    }
   ],
   "source": [
    "#liSt inside liSt\n",
    "a=[[1,3,5,7],\n",
    "  [4,2,6,8],\n",
    "  [18,5,9,2]]\n",
    "print(a[0][0])\n",
    "a=a+[[0,0,0,]]\n",
    "print(a)"
   ]
  },
  {
   "cell_type": "code",
   "execution_count": null,
   "id": "22cb914e",
   "metadata": {},
   "outputs": [],
   "source": [
    "data=[]\n",
    "n=int(input(\"Enter a number: \"))\n",
    "for i in range(n):\n",
    "    name=input(\"Enter a number: \")\n",
    "    age=(input(\"Enter a number: \")\n",
    "    add=(input(\"Enter a number: \")"
   ]
  },
  {
   "cell_type": "code",
   "execution_count": null,
   "id": "51041364",
   "metadata": {},
   "outputs": [],
   "source": []
  },
  {
   "cell_type": "code",
   "execution_count": 6,
   "id": "b7f92c8f",
   "metadata": {},
   "outputs": [
    {
     "name": "stdout",
     "output_type": "stream",
     "text": [
      "Enter n=3\n",
      "Enter  x =4\n",
      "Enter  x =5\n",
      "Enter  x =7\n",
      "[4, 5, 7]\n"
     ]
    }
   ],
   "source": [
    "n= int(input(\"Enter n=\"))\n",
    "l=[]\n",
    "for i in range(n):\n",
    "    x= int(input(\"Enter  x =\"))\n",
    "    l = l +[x]\n",
    "print(l)"
   ]
  },
  {
   "cell_type": "code",
   "execution_count": null,
   "id": "d3ed4d75",
   "metadata": {},
   "outputs": [],
   "source": []
  },
  {
   "cell_type": "code",
   "execution_count": null,
   "id": "3c28254c",
   "metadata": {},
   "outputs": [],
   "source": []
  },
  {
   "cell_type": "code",
   "execution_count": 3,
   "id": "c143e64b",
   "metadata": {},
   "outputs": [
    {
     "name": "stdout",
     "output_type": "stream",
     "text": [
      "Enter n=2\n",
      "Enter  x =1\n",
      "Enter  x =2\n",
      "[1, 2]\n",
      "The max value = 2\n",
      "The min value = 1\n",
      "The sum of the all value= 3\n",
      "[1, 2]\n",
      "[2, 1]\n"
     ]
    }
   ],
   "source": [
    "\n",
    "n= int(input(\"Enter n=\"))\n",
    "l=[]\n",
    "for i in range(n):\n",
    "    x= int(input(\"Enter  x =\"))\n",
    "    l = l +[x]\n",
    "print(l)\n",
    "print(\"The max value =\",max(l))\n",
    "print(\"The min value =\",min(l))\n",
    "print(\"The sum of the all value=\",sum(l))\n",
    "l.sort()\n",
    "print(l)\n",
    "l.reverse()\n",
    "print(l)\n"
   ]
  },
  {
   "cell_type": "code",
   "execution_count": 5,
   "id": "461b68bf",
   "metadata": {},
   "outputs": [
    {
     "name": "stdout",
     "output_type": "stream",
     "text": [
      "['Banana', 'Cat', 'apple', 'zebra']\n"
     ]
    }
   ],
   "source": [
    "a=[\"apple\",\"zebra\",\"Banana\",\"Cat\"]\n",
    "a.sort()\n",
    "print (a)\n"
   ]
  },
  {
   "cell_type": "code",
   "execution_count": 1,
   "id": "c595c370",
   "metadata": {},
   "outputs": [
    {
     "name": "stdout",
     "output_type": "stream",
     "text": [
      "len of a= 4\n",
      "Yes 1\n"
     ]
    }
   ],
   "source": [
    "a=[\"apple\",\"zebra\",\"Banana\",\"Cat\"]\n",
    "print(\"len of a=\",len(a))\n",
    "if \"apple\" in a   :\n",
    "    print(\"Yes\",a.count(\"apple\"))\n",
    "else:\n",
    "    print(\"No\")"
   ]
  },
  {
   "cell_type": "code",
   "execution_count": 7,
   "id": "2ab0b210",
   "metadata": {},
   "outputs": [
    {
     "data": {
      "text/plain": [
       "['apple', 'zebra', 'Banana', 'Cat', 'tiger']"
      ]
     },
     "execution_count": 7,
     "metadata": {},
     "output_type": "execute_result"
    }
   ],
   "source": [
    "a=[\"apple\",\"zebra\",\"Banana\",\"Cat\"]\n",
    "a.append(\"tiger\")\n",
    "a"
   ]
  },
  {
   "cell_type": "code",
   "execution_count": 9,
   "id": "e03da862",
   "metadata": {},
   "outputs": [
    {
     "data": {
      "text/plain": [
       "['apple', 'dog', 'zebra', 'Banana', 'Cat']"
      ]
     },
     "execution_count": 9,
     "metadata": {},
     "output_type": "execute_result"
    }
   ],
   "source": [
    "# insert()\n",
    "a=[\"apple\",\"zebra\",\"Banana\",\"Cat\"]\n",
    "a.insert(1,\"dog\")\n",
    "a\n",
    "\n"
   ]
  },
  {
   "cell_type": "code",
   "execution_count": 10,
   "id": "a5583946",
   "metadata": {},
   "outputs": [
    {
     "name": "stdout",
     "output_type": "stream",
     "text": [
      "['apple', 'zebra', 'Banana', 'Cat', 'Ram', 'Shyam', 'Hari']\n"
     ]
    }
   ],
   "source": [
    "a=[\"apple\",\"zebra\",\"Banana\",\"Cat\"]\n",
    "b=[\"Ram\",\"Shyam\",\"Hari\"]\n",
    "a.extend(b)\n",
    "print(a)\n"
   ]
  },
  {
   "cell_type": "markdown",
   "id": "e50edfc6",
   "metadata": {},
   "source": [
    "## n= int(input(\"Enter n=\"))\n",
    "l=[]\n",
    "for i in range(n):\n",
    "    x= int(input(\"Enter  x =\"))\n",
    "    l.append(x)\n",
    "print(l)"
   ]
  },
  {
   "cell_type": "code",
   "execution_count": 1,
   "id": "fe28154b",
   "metadata": {},
   "outputs": [],
   "source": [
    "a=[\"apple\",\"zebra\",\"Banana\",\"Cat\"]\n",
    "del a[0]"
   ]
  },
  {
   "cell_type": "code",
   "execution_count": 2,
   "id": "ae8f997f",
   "metadata": {},
   "outputs": [
    {
     "data": {
      "text/plain": [
       "['apple', 'Banana', 'Cat']"
      ]
     },
     "execution_count": 2,
     "metadata": {},
     "output_type": "execute_result"
    }
   ],
   "source": [
    "# remove\n",
    "c=[\"apple\",\"zebra\",\"Banana\",\"Cat\"]\n",
    "c.remove(\"zebra\")\n",
    "c"
   ]
  },
  {
   "cell_type": "code",
   "execution_count": 5,
   "id": "9661af95",
   "metadata": {},
   "outputs": [
    {
     "name": "stdout",
     "output_type": "stream",
     "text": [
      "['apple', 'Banana', 'Cat']\n",
      "zebra\n"
     ]
    }
   ],
   "source": [
    "c=[\"apple\",\"zebra\",\"Banana\",\"Cat\"]\n",
    "b= c.pop(1)\n",
    "print(c)\n",
    "print(b)\n"
   ]
  },
  {
   "cell_type": "code",
   "execution_count": 6,
   "id": "9f91bd99",
   "metadata": {},
   "outputs": [
    {
     "data": {
      "text/plain": [
       "['Banana', 'Cat']"
      ]
     },
     "execution_count": 6,
     "metadata": {},
     "output_type": "execute_result"
    }
   ],
   "source": [
    "# to remove multiple value using del\n",
    "c=[\"apple\",\"zebra\",\"Banana\",\"Cat\"]\n",
    "del c[0:2]\n",
    "c"
   ]
  },
  {
   "cell_type": "code",
   "execution_count": 2,
   "id": "f5ba632e",
   "metadata": {},
   "outputs": [
    {
     "name": "stdout",
     "output_type": "stream",
     "text": [
      "['apple', 'cat', 'zebra', 'Banana', 'cat']\n",
      "['apple', 'zebra', 'Banana']\n"
     ]
    }
   ],
   "source": [
    "c=[\"apple\",\"cat\",\"zebra\",\"Banana\",\"cat\"]\n",
    "b=c.count(\"cat\")\n",
    "print(c)\n",
    "for i in range(b):\n",
    "    c.remove(\"cat\")\n",
    "    \n",
    "print(c)"
   ]
  },
  {
   "cell_type": "code",
   "execution_count": 12,
   "id": "e12b1ae3",
   "metadata": {},
   "outputs": [
    {
     "name": "stdout",
     "output_type": "stream",
     "text": [
      "apple\n",
      "cat\n",
      "zebra\n",
      "Banana\n",
      "cat\n"
     ]
    }
   ],
   "source": [
    "c=[\"apple\",\"cat\",\"zebra\",\"Banana\",\"cat\"]\n",
    "n= len(c)\n",
    "for i in range(n):\n",
    "    print(c[i])"
   ]
  },
  {
   "cell_type": "code",
   "execution_count": 4,
   "id": "15d87029",
   "metadata": {},
   "outputs": [
    {
     "name": "stdout",
     "output_type": "stream",
     "text": [
      "1 cat\n",
      "4 cat\n"
     ]
    }
   ],
   "source": [
    "c=[\"apple\",\"cat\",\"zebra\",\"Banana\",\"cat\"]\n",
    "n= len(c)\n",
    "for i in range(n):\n",
    "    if c[i] == \"cat\":\n",
    "        \n",
    "        print(i,c[i])"
   ]
  },
  {
   "cell_type": "code",
   "execution_count": null,
   "id": "c8fee604",
   "metadata": {},
   "outputs": [],
   "source": [
    "def prime(n):\n",
    "    a=int(input(\"Enter a number: \"))\n",
    "    if a%2"
   ]
  },
  {
   "cell_type": "code",
   "execution_count": null,
   "id": "a21f6374",
   "metadata": {},
   "outputs": [],
   "source": [
    "a=[[1,3,5,7],[4,2,6,8],[18,5,9,2]]\n",
    "search=int(input(\"enter a number: \"))\n",
    "for i in (a):\n",
    "    if search in i:\n",
    "        print(i)\n",
    "        a.remove(i)\n",
    "print(a)"
   ]
  },
  {
   "cell_type": "code",
   "execution_count": null,
   "id": "107c306c",
   "metadata": {},
   "outputs": [],
   "source": [
    "# create a matrix using row and column inout from user\n",
    "# tuple\n"
   ]
  },
  {
   "cell_type": "code",
   "execution_count": 8,
   "id": "bfaf0455",
   "metadata": {},
   "outputs": [
    {
     "name": "stdout",
     "output_type": "stream",
     "text": [
      "enter a number: 2\n",
      "enter a number: 12\n",
      "enter a number: 14\n",
      "(12, 14)\n"
     ]
    }
   ],
   "source": [
    "n=int(input(\"enter a number: \"))\n",
    "l=()\n",
    "for i in range(n,):\n",
    "    x=int(input(\"enter a number: \"))\n",
    "    l=d+(x,)\n",
    "print (d)\n"
   ]
  },
  {
   "cell_type": "code",
   "execution_count": 3,
   "id": "51a3f3d5",
   "metadata": {},
   "outputs": [
    {
     "name": "stdout",
     "output_type": "stream",
     "text": [
      "Enter n=2\n",
      "Enter student roll number:1\n",
      "Enter your student name=f\n",
      "Enter your address=f\n",
      "Enter student roll number:2\n",
      "Enter your student name=f\n",
      "Enter your address=f\n",
      "[[1, 'f', 'f'], [2, 'f', 'f']]\n",
      "Enter the roll number: 1\n",
      "[1, 'f', 'f']\n"
     ]
    }
   ],
   "source": [
    "n= int(input(\"Enter n=\"))\n",
    "l=[]\n",
    "\n",
    "for i in range(n):\n",
    "    rollno=int(input(\"Enter student roll number:\",))\n",
    "    name= input(\"Enter your student name=\")\n",
    "    address=(input(\"Enter your address=\"))\n",
    "    x=[rollno,name,address]\n",
    "    l = l +[x]\n",
    "\n",
    "print (l)\n",
    "search=int(input(\"Enter the roll number: \"))\n",
    "for i in (l):\n",
    "    if search in i:\n",
    "        print(i)\n",
    "\n"
   ]
  },
  {
   "cell_type": "code",
   "execution_count": 8,
   "id": "2a6f93a0",
   "metadata": {},
   "outputs": [
    {
     "name": "stdout",
     "output_type": "stream",
     "text": [
      "enter number of rows: 2\n",
      "enter number of column: 2\n",
      "enter the elements: 26\n",
      "['26']\n",
      "enter the elements: 4\n",
      "['26', '4']\n",
      "enter the elements: 3\n",
      "['3']\n",
      "enter the elements: 6\n",
      "['3', '6']\n",
      "26 4 \n",
      "3 6 \n"
     ]
    }
   ],
   "source": [
    "matrix = []\n",
    "r = int(input(\"enter number of rows: \"))\n",
    "c=int(input(\"enter number of column: \"))\n",
    "for i in range(r):\n",
    "    a = []\n",
    "    for j in range(c):\n",
    "        k=input(\"enter the elements: \")\n",
    "        a.append(k)\n",
    "        print (a)\n",
    "    matrix.append(a)\n",
    "for i in range(r):\n",
    "    for j in range(c):\n",
    "        print(matrix[i][j],end= \" \")\n",
    "    print()"
   ]
  },
  {
   "cell_type": "code",
   "execution_count": null,
   "id": "a468e16b",
   "metadata": {},
   "outputs": [],
   "source": [
    "# #dictionary\n",
    "# -Indexed\n",
    "# -Multiple and duolicate value\n",
    "# -Ordered\n",
    "# -Mutable"
   ]
  },
  {
   "cell_type": "code",
   "execution_count": 9,
   "id": "7da817f6",
   "metadata": {
    "scrolled": true
   },
   "outputs": [
    {
     "name": "stdout",
     "output_type": "stream",
     "text": [
      "{'a': 'Apple', 'b': 'Ball', 'c': 'Cat'}\n",
      "<class 'dict'>\n"
     ]
    }
   ],
   "source": [
    "# d = {<key>:<value>,<key>:<value>,....}\n",
    "d={'a':'Apple','b':'Ball','c':'Cat'}\n",
    "print(d)\n",
    "print(type(d))"
   ]
  },
  {
   "cell_type": "code",
   "execution_count": 10,
   "id": "a608387c",
   "metadata": {},
   "outputs": [
    {
     "name": "stdout",
     "output_type": "stream",
     "text": [
      "Ram\n",
      "10\n",
      "Nepal\n"
     ]
    }
   ],
   "source": [
    "info={'name':'Ram','age':10,'add':'Nepal'}\n",
    "print(info['name'])\n",
    "print(info['age'])\n",
    "print(info['add'])"
   ]
  },
  {
   "cell_type": "code",
   "execution_count": null,
   "id": "bf3e16f3",
   "metadata": {},
   "outputs": [],
   "source": [
    "d={'a':'Apple','b':'Ball','c':'Cat','A':'Apple'}\n",
    "print(d)"
   ]
  },
  {
   "cell_type": "code",
   "execution_count": 1,
   "id": "abe01ec9",
   "metadata": {},
   "outputs": [
    {
     "name": "stdout",
     "output_type": "stream",
     "text": [
      "{'a': 'Apple', 'b': 'Ball', 'c': 'Cat'}\n"
     ]
    }
   ],
   "source": [
    "d= {}\n",
    "# d=dict()\n",
    "d['a']='Apple'\n",
    "d['b']='Ball'\n",
    "d['c']='Cat'\n",
    "print(d)\n"
   ]
  },
  {
   "cell_type": "code",
   "execution_count": 4,
   "id": "eb866ae4",
   "metadata": {},
   "outputs": [
    {
     "name": "stdout",
     "output_type": "stream",
     "text": [
      "enter n= 2\n",
      "Enter name=ram\n",
      "Enter phone= 9857544\n",
      "Enter name=shyam\n",
      "Enter phone= 9454546\n",
      "{'ram': 9857544, 'shyam': 9454546}\n"
     ]
    }
   ],
   "source": [
    "info={}\n",
    "n = int(input(\"enter n= \"))\n",
    "for i in range(n):\n",
    "    name=input('Enter name=')\n",
    "    phone=int (input(\"Enter phone= \"))\n",
    "    info[name]=phone\n",
    "    \n",
    "print(info)"
   ]
  },
  {
   "cell_type": "code",
   "execution_count": 15,
   "id": "785e7be0",
   "metadata": {},
   "outputs": [
    {
     "name": "stdout",
     "output_type": "stream",
     "text": [
      "9874374632\n",
      "984347654\n"
     ]
    }
   ],
   "source": [
    "a={'Ram':9874374632,'Shyam':984347654}\n",
    "for i in a.values():\n",
    "    print(i)"
   ]
  },
  {
   "cell_type": "code",
   "execution_count": 17,
   "id": "20dc0366",
   "metadata": {},
   "outputs": [
    {
     "name": "stdout",
     "output_type": "stream",
     "text": [
      "[('Ram', 9874374632), ('Shyam', 984347654)]\n"
     ]
    }
   ],
   "source": [
    "l=[]\n",
    "a={'Ram':9874374632,'Shyam':984347654}\n",
    "for i in a.items():\n",
    "    l.append(i)\n",
    "print(l)"
   ]
  },
  {
   "cell_type": "code",
   "execution_count": 19,
   "id": "f6195d96",
   "metadata": {},
   "outputs": [
    {
     "data": {
      "text/plain": [
       "{'Ram': 9874374632, 'Shyam': 984347654}"
      ]
     },
     "execution_count": 19,
     "metadata": {},
     "output_type": "execute_result"
    }
   ],
   "source": [
    "dict(l)"
   ]
  },
  {
   "cell_type": "code",
   "execution_count": 18,
   "id": "b92680cb",
   "metadata": {},
   "outputs": [
    {
     "name": "stdout",
     "output_type": "stream",
     "text": [
      "('Ram', 9874374632)\n",
      "('Shyam', 984347654)\n"
     ]
    }
   ],
   "source": [
    "a={'Ram':9874374632,'Shyam':984347654}\n",
    "for i in a.items():\n",
    "    print(i)"
   ]
  },
  {
   "cell_type": "code",
   "execution_count": null,
   "id": "dd4da2cd",
   "metadata": {},
   "outputs": [],
   "source": [
    "# No concatination in dictioneries\n",
    "# No +*"
   ]
  },
  {
   "cell_type": "code",
   "execution_count": 20,
   "id": "3865b942",
   "metadata": {},
   "outputs": [
    {
     "data": {
      "text/plain": [
       "{'Ram': 9874374632, 'Shyam': 984347654, 'Hari': 984545435}"
      ]
     },
     "execution_count": 20,
     "metadata": {},
     "output_type": "execute_result"
    }
   ],
   "source": [
    "d={'Ram': 9874374632, 'Shyam': 984347654}\n",
    "a={'Hari':984545435}\n",
    "\n",
    "d.update(a)\n",
    "d"
   ]
  },
  {
   "cell_type": "code",
   "execution_count": 21,
   "id": "fdcb6126",
   "metadata": {},
   "outputs": [
    {
     "data": {
      "text/plain": [
       "{'Ram': 9999999, 'Shyam': 984347654, 'Hari': 984545435}"
      ]
     },
     "execution_count": 21,
     "metadata": {},
     "output_type": "execute_result"
    }
   ],
   "source": [
    "a={'Ram': 9874374632, 'Shyam': 984347654, 'Hari': 984545435}\n",
    "a['Ram']=9999999\n",
    "a"
   ]
  },
  {
   "cell_type": "code",
   "execution_count": 23,
   "id": "1d9b932d",
   "metadata": {},
   "outputs": [
    {
     "name": "stdout",
     "output_type": "stream",
     "text": [
      "{'Ram': [5656544, 9874374632], 'Shyam': [564768, 984347654], 'Hari': [656563, 984545435]}\n"
     ]
    }
   ],
   "source": [
    "# list inside dictionary\n",
    "a={'Ram':[5656544,9874374632], \n",
    "   'Shyam':[564768,984347654], \n",
    "   'Hari':[656563,984545435]}\n",
    "print(a)"
   ]
  },
  {
   "cell_type": "code",
   "execution_count": 2,
   "id": "379e3642",
   "metadata": {},
   "outputs": [
    {
     "name": "stdout",
     "output_type": "stream",
     "text": [
      "Enter the value of n= 1\n",
      "Enter name= jkfhdfg\n",
      "Enter ntc no= 578456\n",
      "Enter ncell no = 78454725\n",
      "{'jkfhdfg': (578456, 78454725)}\n"
     ]
    }
   ],
   "source": [
    "info={}\n",
    "n=int(input(\"Enter the value of n= \"))\n",
    "for i in range(n):\n",
    "    name = input(\"Enter name= \")\n",
    "    ntc =int(input(\"Enter ntc no= \"))\n",
    "    ncell = int(input(\"Enter ncell no = \"))\n",
    "    info[name]=[ntc,ncell]\n",
    "print(info)"
   ]
  },
  {
   "cell_type": "code",
   "execution_count": 4,
   "id": "18dbba16",
   "metadata": {},
   "outputs": [
    {
     "name": "stdout",
     "output_type": "stream",
     "text": [
      "Enter the value of n= 2\n",
      "Enter name= manoj\n",
      "Enter age= 24\n",
      "Enter address= butwal\n",
      "Enter name= David\n",
      "Enter age= 24\n",
      "Enter address= Budgaon\n",
      "{'Name': ['manoj', 'David'], 'Age': [24, 24], 'Add': ['butwal', 'Budgaon']}\n"
     ]
    }
   ],
   "source": [
    "# data={'name':['Ram','Shyam','hari'],\n",
    "#      'Age':[45'67'34],\n",
    "#      'Add':['Kathmandu','Bhaktapur','lalitpur']}\n",
    "\n",
    "info={'Name':[],\n",
    "      'Age':[],\n",
    "      'Add':[]}\n",
    "n=int(input(\"Enter the value of n= \"))\n",
    "for i in range(n):\n",
    "    name = input(\"Enter name= \")\n",
    "    age =int(input(\"Enter age= \"))\n",
    "    add = (input(\"Enter address= \"))\n",
    "    info['Name'].append(name)\n",
    "    info['Age'].append(age)\n",
    "    info['Add'].append(add)\n",
    "    \n",
    "print(info)"
   ]
  },
  {
   "cell_type": "code",
   "execution_count": 28,
   "id": "a29c3f48",
   "metadata": {},
   "outputs": [
    {
     "data": {
      "text/plain": [
       "{'Name': ['ram', 'shyam', 'karan'],\n",
       " 'Age': [56, 45, '34'],\n",
       " 'Add': ['butwal', 'palpa', 'Hetauda']}"
      ]
     },
     "execution_count": 28,
     "metadata": {},
     "output_type": "execute_result"
    }
   ],
   "source": [
    "a={'Name': ['ram', 'shyam'], 'Age': [56, 45], 'Add': ['butwal', 'palpa']}\n",
    "a['Name'].append('karan')\n",
    "a['Age'].append('34')\n",
    "a['Add'].append('Hetauda')\n",
    "a\n"
   ]
  },
  {
   "cell_type": "code",
   "execution_count": 1,
   "id": "791df2df",
   "metadata": {},
   "outputs": [
    {
     "data": {
      "text/plain": [
       "{'Name': ['ram', 'shyam'], 'Age': [56, 45]}"
      ]
     },
     "execution_count": 1,
     "metadata": {},
     "output_type": "execute_result"
    }
   ],
   "source": [
    "# del pop()\n",
    "d={'Name': ['ram', 'shyam'], 'Age': [56, 45], 'Add': ['butwal', 'palpa']}\n",
    "del d['Add']\n",
    "d"
   ]
  },
  {
   "cell_type": "code",
   "execution_count": 2,
   "id": "da064a59",
   "metadata": {},
   "outputs": [
    {
     "data": {
      "text/plain": [
       "{'Name': ['shyam'], 'Age': [45], 'Add': ['palpa']}"
      ]
     },
     "execution_count": 2,
     "metadata": {},
     "output_type": "execute_result"
    }
   ],
   "source": [
    "d={'Name': ['ram', 'shyam'], 'Age': [56, 45], 'Add': ['butwal', 'palpa']}\n",
    "del d['Name'][0]\n",
    "del d['Age'][0]\n",
    "del d['Add'][0]\n",
    "d"
   ]
  },
  {
   "cell_type": "code",
   "execution_count": 3,
   "id": "358ce750",
   "metadata": {},
   "outputs": [
    {
     "data": {
      "text/plain": [
       "{'Name': ['ram', 'shyam'], 'Age': [56, 45], 'Add': ['jhapa', 'palpa']}"
      ]
     },
     "execution_count": 3,
     "metadata": {},
     "output_type": "execute_result"
    }
   ],
   "source": [
    "d={'Name': ['ram', 'shyam'], 'Age': [56, 45], 'Add': ['butwal', 'palpa']}\n",
    "d['Add'][0] =\"jhapa\"\n",
    "d"
   ]
  },
  {
   "cell_type": "code",
   "execution_count": null,
   "id": "f065b4e6",
   "metadata": {},
   "outputs": [],
   "source": [
    "# dict inside list\n",
    "l=[{'name':'Ram','age':23,'add':'Kathmandu'},\n",
    "  {'name':'Shyam','age':34,'add':'kathmandu'},\n",
    "  {'name':'Hari','age':21,'add':'Jhapa'}]"
   ]
  },
  {
   "cell_type": "code",
   "execution_count": 6,
   "id": "f9c0a41d",
   "metadata": {},
   "outputs": [
    {
     "name": "stdout",
     "output_type": "stream",
     "text": [
      "11\n"
     ]
    }
   ],
   "source": [
    "def test(a):\n",
    "        def add(b):\n",
    "                nonlocal a\n",
    "                a += 1\n",
    "                return a+b\n",
    "        return add\n",
    "func= test(4)\n",
    "print(func(6))"
   ]
  },
  {
   "cell_type": "code",
   "execution_count": 7,
   "id": "46d03ee6",
   "metadata": {},
   "outputs": [
    {
     "name": "stdout",
     "output_type": "stream",
     "text": [
      "<b><i><u>hello world</u></i></b>\n"
     ]
    }
   ],
   "source": [
    "def make_bold(fn):\n",
    "    def wrapped():\n",
    "        return \"<b>\" + fn() + \"</b>\"\n",
    "    return wrapped\n",
    "\n",
    "def make_italic(fn):\n",
    "    def wrapped():\n",
    "        return \"<i>\" + fn() + \"</i>\"\n",
    "    return wrapped\n",
    "\n",
    "def make_underline(fn):\n",
    "    def wrapped():\n",
    "        return \"<u>\" + fn() + \"</u>\"\n",
    "    return wrapped\n",
    "@make_bold\n",
    "@make_italic\n",
    "@make_underline\n",
    "def hello():\n",
    "    return \"hello world\"\n",
    "print(hello()) ## returns \"<b><i><u>hello world</u></i></b>\""
   ]
  },
  {
   "cell_type": "code",
   "execution_count": null,
   "id": "5a6617eb",
   "metadata": {},
   "outputs": [],
   "source": []
  },
  {
   "cell_type": "code",
   "execution_count": null,
   "id": "40b8cad3",
   "metadata": {},
   "outputs": [],
   "source": []
  }
 ],
 "metadata": {
  "kernelspec": {
   "display_name": "Python 3 (ipykernel)",
   "language": "python",
   "name": "python3"
  },
  "language_info": {
   "codemirror_mode": {
    "name": "ipython",
    "version": 3
   },
   "file_extension": ".py",
   "mimetype": "text/x-python",
   "name": "python",
   "nbconvert_exporter": "python",
   "pygments_lexer": "ipython3",
   "version": "3.9.13"
  }
 },
 "nbformat": 4,
 "nbformat_minor": 5
}
