{
 "cells": [
  {
   "cell_type": "code",
   "execution_count": 2,
   "id": "6ff1f070",
   "metadata": {},
   "outputs": [
    {
     "name": "stdout",
     "output_type": "stream",
     "text": [
      "Hello World\n"
     ]
    }
   ],
   "source": [
    "class Hello:\n",
    "    print(\"Hello World\")\n",
    "    \n",
    "    \n",
    "obj = Hello()"
   ]
  },
  {
   "cell_type": "code",
   "execution_count": 3,
   "id": "c806411a",
   "metadata": {},
   "outputs": [
    {
     "name": "stdout",
     "output_type": "stream",
     "text": [
      "Hello World\n"
     ]
    }
   ],
   "source": [
    "class Hello:\n",
    "    def hello(self):\n",
    "        print(\"Hello World\")\n",
    "        \n",
    "obj = Hello()\n",
    "obj.hello()"
   ]
  },
  {
   "cell_type": "code",
   "execution_count": 4,
   "id": "40c10552",
   "metadata": {},
   "outputs": [
    {
     "name": "stdout",
     "output_type": "stream",
     "text": [
      "Hello World\n"
     ]
    }
   ],
   "source": [
    "class Hello:\n",
    "    @staticmethod\n",
    "    def hello():\n",
    "        print(\"Hello World\")\n",
    "        \n",
    "obj = Hello()\n",
    "obj.hello()"
   ]
  },
  {
   "cell_type": "code",
   "execution_count": 5,
   "id": "2803e9ab",
   "metadata": {},
   "outputs": [
    {
     "name": "stdout",
     "output_type": "stream",
     "text": [
      "30\n"
     ]
    }
   ],
   "source": [
    "class Cal:\n",
    "    def area (self):\n",
    "        l=10\n",
    "        b=3\n",
    "        a=l*b\n",
    "        print(a)\n",
    "        \n",
    "obj = Cal()\n",
    "obj.area()"
   ]
  },
  {
   "cell_type": "code",
   "execution_count": 6,
   "id": "68148f3f",
   "metadata": {},
   "outputs": [
    {
     "name": "stdout",
     "output_type": "stream",
     "text": [
      "30\n",
      "60\n"
     ]
    }
   ],
   "source": [
    "class Cal:\n",
    "    def area (self):\n",
    "        l=10\n",
    "        b=3\n",
    "        a=l*b\n",
    "        print(a)\n",
    "    def volume(self):\n",
    "        l=10\n",
    "        b = 3\n",
    "        h = 2\n",
    "        v=l*b*h\n",
    "        print(v)\n",
    "        \n",
    "obj = Cal()\n",
    "obj.area()\n",
    "obj.volume()"
   ]
  },
  {
   "cell_type": "code",
   "execution_count": 7,
   "id": "6257fd26",
   "metadata": {},
   "outputs": [
    {
     "name": "stdout",
     "output_type": "stream",
     "text": [
      "Enter l = 5\n",
      "Enter b = 4\n",
      "Enter h = 3\n",
      "20\n",
      "60\n"
     ]
    }
   ],
   "source": [
    "class Cal:\n",
    "    def area (self,l,b):\n",
    "        a=l*b\n",
    "        print(a)\n",
    "    def volume(self,l,b,h):\n",
    "        v=l*b*h\n",
    "        print(v)\n",
    "        \n",
    "\n",
    "\n",
    "l=int(input(\"Enter l = \"))\n",
    "b=int(input(\"Enter b = \"))\n",
    "h=int(input(\"Enter h = \"))\n",
    "obj = Cal()\n",
    "obj.area(l,b)\n",
    "obj.volume(l,b,h)"
   ]
  },
  {
   "cell_type": "code",
   "execution_count": null,
   "id": "878dedad",
   "metadata": {},
   "outputs": [],
   "source": [
    "class Area:\n",
    "    def area (self,l,b):\n",
    "        a=l*b\n",
    "        print(a)\n",
    "class Volume:\n",
    "    def volume(self,l,b,h):\n",
    "        v=l*b*h\n",
    "        print(v)\n",
    "        \n",
    "\n",
    "\n",
    "l=int(input(\"Enter l = \"))\n",
    "b=int(input(\"Enter b = \"))\n",
    "h=int(input(\"Enter h = \"))\n",
    "obj = Area()\n",
    "obj.area(l,b)\n",
    "obj1=Volume()\n",
    "obj1.volume(l,b,h)"
   ]
  },
  {
   "cell_type": "code",
   "execution_count": 9,
   "id": "71af1fc8",
   "metadata": {},
   "outputs": [
    {
     "name": "stdout",
     "output_type": "stream",
     "text": [
      "Enter l = 5\n",
      "Enter b = 4\n",
      "Enter h = 3\n",
      "20\n",
      "60\n"
     ]
    }
   ],
   "source": [
    "class Cal:\n",
    "    def __init__(self,l,b,h):\n",
    "        self.l = l\n",
    "        self.b = b\n",
    "        self.h = h\n",
    "        \n",
    "    def area (self):\n",
    "        a= self.l*self.b\n",
    "        print(a)\n",
    "    def volume(self):\n",
    "        v=self.l*self.b*self.h\n",
    "        print(v)\n",
    "        \n",
    "\n",
    "\n",
    "l=int(input(\"Enter l = \"))\n",
    "b=int(input(\"Enter b = \"))\n",
    "h=int(input(\"Enter h = \"))\n",
    "obj = Cal(l,b,h)\n",
    "obj.area()\n",
    "obj.volume()"
   ]
  },
  {
   "cell_type": "code",
   "execution_count": 1,
   "id": "a9fd79a3",
   "metadata": {},
   "outputs": [
    {
     "name": "stdout",
     "output_type": "stream",
     "text": [
      "Enter l = 5\n",
      "Enter b = 4\n",
      "Enter h = 3\n",
      "20\n",
      "60\n"
     ]
    }
   ],
   "source": [
    "class Cal:\n",
    "    def __init__(self,l,b,h):\n",
    "        self.l = l\n",
    "        self.b = b\n",
    "        self.h = h\n",
    "        \n",
    "    def area (self):\n",
    "        a= self.l*self.b\n",
    "        print(a)\n",
    "    def volume(self):\n",
    "        v=self.l*self.b*self.h\n",
    "        print(v)\n",
    "        \n",
    "\n",
    "\n",
    "l=int(input(\"Enter l = \"))\n",
    "b=int(input(\"Enter b = \"))\n",
    "h=int(input(\"Enter h = \"))\n",
    "obj = Cal(l,b,h)\n",
    "obj.area()\n",
    "obj.volume()"
   ]
  },
  {
   "cell_type": "code",
   "execution_count": null,
   "id": "f221e143",
   "metadata": {},
   "outputs": [],
   "source": [
    "# Inheritance\n",
    "\n",
    "# class A:\n",
    "#     pass\n",
    "# class B(A):\n",
    "#     pass\n",
    "# obj=B()\n"
   ]
  },
  {
   "cell_type": "code",
   "execution_count": 2,
   "id": "4561c318",
   "metadata": {},
   "outputs": [
    {
     "name": "stdout",
     "output_type": "stream",
     "text": [
      "Enter name = shyam\n",
      "Enter age = 45\n",
      "Enter address = butwal\n",
      "Hello World Iam shyam. Iam from butwal.Iam butwal\n"
     ]
    }
   ],
   "source": [
    "                                            "
   ]
  },
  {
   "cell_type": "code",
   "execution_count": 1,
   "id": "dc46519c",
   "metadata": {},
   "outputs": [
    {
     "name": "stdout",
     "output_type": "stream",
     "text": [
      "Enter name = ram\n",
      "Enter age = 34\n",
      "Enter address = kathmandu\n",
      "Hello World Iam ram. Iam from kathmandu.Iam kathmandu\n"
     ]
    }
   ],
   "source": [
    "class Info:\n",
    "    def __init__(self,name,age,add):\n",
    "        self.name = name\n",
    "        self.age = age\n",
    "        self.add = add\n",
    "        \n",
    "        \n",
    "class Data(Info):\n",
    "    def data(self):\n",
    "        print(f\"Hello World I am {self.name}. I am from {self.add}.I am {self.age}\")\n",
    "        \n",
    "name = input(\"Enter name = \")\n",
    "age = int(input(\"Enter age = \"))\n",
    "add = input(\"Enter address = \")\n",
    "obj =Data(name,age,add)\n",
    "obj.data()"
   ]
  },
  {
   "cell_type": "code",
   "execution_count": null,
   "id": "5b006878",
   "metadata": {},
   "outputs": [],
   "source": [
    "class Info:\n",
    "    def __init__(self,name,age,add):\n",
    "        \n",
    "        self.age = age\n",
    "        self.add = add\n",
    "        def info(self):\n",
    "            print(self.age,self.add)\n",
    "        \n",
    "class Data(Info):\n",
    "    def __init__(self):\n",
    "        self.name = name\n",
    "        Info.__init__(self.age,self.add)\n",
    "        \n",
    "    def data(self):\n",
    "        print(f\"Hello World I am {self.name}. I am from {self.add}.I am {self.add}\")\n",
    "        \n",
    "name = input(\"Enter name = \")\n",
    "age = int(input(\"Enter age = \"))\n",
    "add = input(\"Enter address = \")\n",
    "obj =Data(name,age,add)\n",
    "obj.data()"
   ]
  },
  {
   "cell_type": "code",
   "execution_count": null,
   "id": "3139277e",
   "metadata": {},
   "outputs": [],
   "source": [
    "# class A:\n",
    "#     pass\n",
    "\n",
    "# class B(A):\n",
    "#     pass\n",
    "\n",
    "# class C(B):\n",
    "#     pass\n",
    "\n",
    "# obj =C()"
   ]
  },
  {
   "cell_type": "code",
   "execution_count": null,
   "id": "a7052b30",
   "metadata": {},
   "outputs": [],
   "source": [
    "# class A:\n",
    "#     pass\n",
    "\n",
    "# class B:\n",
    "#     pass\n",
    "\n",
    "# class C(A,B):\n",
    "#     pass\n",
    "\n",
    "# obj =C()"
   ]
  },
  {
   "cell_type": "code",
   "execution_count": 2,
   "id": "bc290ab1",
   "metadata": {},
   "outputs": [
    {
     "name": "stdout",
     "output_type": "stream",
     "text": [
      "Enter name = gfshg\n",
      "Enter age = 56\n",
      "Enter address = vjkfnfd\n",
      "Hello World Iam gfshg. Iam from vjkfnfd.Iam vjkfnfd\n"
     ]
    }
   ],
   "source": [
    "# multi-level inheitance\n",
    "class Add:\n",
    "    def __init__(self,add):\n",
    "        self.add = add\n",
    "        \n",
    "class Age(Add):\n",
    "    def __init__(self,age,add):\n",
    "        self.age = age\n",
    "        Add.__init__(self,add)\n",
    "    \n",
    "       \n",
    "        \n",
    "class Data(Age):\n",
    "    def __init__(self,name,age,add):\n",
    "        self.name = name\n",
    "        Age.__init__(self,age,add)\n",
    "        \n",
    "    def data(self):\n",
    "        print(f\"Hello World Iam {self.name}. Iam from {self.add}.Iam {self.add}\")\n",
    "        \n",
    "name = input(\"Enter name = \")\n",
    "age = int(input(\"Enter age = \"))\n",
    "add = input(\"Enter address = \")\n",
    "obj =Data(name,age,add)\n",
    "obj.data()"
   ]
  },
  {
   "cell_type": "code",
   "execution_count": 2,
   "id": "ab3524bf",
   "metadata": {},
   "outputs": [
    {
     "name": "stdout",
     "output_type": "stream",
     "text": [
      "Enter name = kjfhsf\n",
      "Enter age = 34\n",
      "Enter add = vfjh\n",
      "Hello World Iam kjfhsf. Iam from vfjh.I am 34\n",
      "kjfhsf 34 vfjh\n"
     ]
    }
   ],
   "source": [
    "# multi-level inheitance\n",
    "class Add:\n",
    "    def __init__(self,add):\n",
    "        self.add = add\n",
    "    def add(self):\n",
    "        print(self.add)\n",
    "        \n",
    "class Age:\n",
    "    def __init__(self,age):\n",
    "        self.age = age\n",
    "    def age(self):\n",
    "        print(self.age)\n",
    "    \n",
    "class Data(Add,Age):\n",
    "    def __init__(self,name,age,add):\n",
    "        self.name = name\n",
    "        Age.__init__(self,age)\n",
    "        Add.__init__(self,add)\n",
    "    def data(self):\n",
    "        print(f\"Hello World Iam {self.name}. Iam from {self.add}.I am {self.age}\")\n",
    "        \n",
    "name = input(\"Enter name = \")\n",
    "age = int(input(\"Enter age = \"))\n",
    "add = input(\"Enter add = \")\n",
    "obj =Data(name,age,add)\n",
    "obj.data()\n",
    "print(obj.name,obj.age,obj.add)"
   ]
  },
  {
   "cell_type": "code",
   "execution_count": 2,
   "id": "18aa7c39",
   "metadata": {},
   "outputs": [
    {
     "name": "stdout",
     "output_type": "stream",
     "text": [
      "Enter name = jfshg\n",
      "Enter age = 45\n",
      "Enter add = sgsfghdf\n",
      "Hello World I am jfshg. I am from sgsfghdf. I am 45\n",
      "jfshg 45 sgsfghdf\n"
     ]
    }
   ],
   "source": [
    "class Add:\n",
    "    def __init__(self,add):\n",
    "        self.add = add\n",
    "    def add(self):\n",
    "        print(self.add)\n",
    "        \n",
    "class Age:\n",
    "    def __init__(self,age):\n",
    "        self.age = age\n",
    "    def age(self):\n",
    "        print(self.age)\n",
    "\n",
    "class Data(Add,Age):\n",
    "    def __init__(self,name,age,add):\n",
    "        self.name = name\n",
    "        Age.__init__(self,age)\n",
    "        Add.__init__(self,add)\n",
    "    def data(self):\n",
    "        print(f\"Hello World I am {self.name}. I am from {self.add}. I am {self.age}\")\n",
    "\n",
    "name = input(\"Enter name = \")\n",
    "age = int(input(\"Enter age = \"))\n",
    "add = input(\"Enter add = \")\n",
    "obj = Data(name,age,add)\n",
    "obj.data()\n",
    "print(obj.name,obj.age,obj.add)"
   ]
  },
  {
   "cell_type": "code",
   "execution_count": null,
   "id": "4c31b289",
   "metadata": {},
   "outputs": [],
   "source": [
    "class Info:\n",
    "    def __init__(self,name,age,add):\n",
    "        self.name =\"ram\"\n",
    "        self.age = 34\n",
    "        self.add = \"Baara\"\n",
    "        \n",
    "obj = Info()\n",
    "print(obj.name)\n",
    "print(obj.age)\n",
    "print(obj.add)"
   ]
  },
  {
   "cell_type": "code",
   "execution_count": 3,
   "id": "6829e32c",
   "metadata": {},
   "outputs": [
    {
     "name": "stdout",
     "output_type": "stream",
     "text": [
      "ram\n",
      "34\n",
      "Baara\n"
     ]
    }
   ],
   "source": [
    "class Info:\n",
    "    def __init__(self):\n",
    "        self._name =\"ram\"\n",
    "        self._age = 34\n",
    "        self._add = \"Baara\"\n",
    "        \n",
    "obj = Info()\n",
    "print(obj._name)\n",
    "print(obj._age)\n",
    "print(obj._add)"
   ]
  },
  {
   "cell_type": "code",
   "execution_count": null,
   "id": "ddf5a0c4",
   "metadata": {},
   "outputs": [],
   "source": [
    "class Info:\n",
    "    def __init__(self,name,age,add):\n",
    "        self.name = name\n",
    "        self._age = age\n",
    "        self.__add = add\n",
    "        \n",
    "    def info(self):\n",
    "        print(f\"Hello World Iam {self.name}.Iam from {self.__add}.\")\n",
    "        \n",
    "        \n",
    "class Data(Info):\n",
    "    def data(self):\n",
    "        print(f\"Hello World Iam {self.name}. I am {self._age}.\")\n",
    "        \n",
    "name = input(\"Enter name = \")\n",
    "age = int(input(\"Enter age = \"))\n",
    "add = input(\"Enter address = \")\n",
    "obj =Data(name,age,add)\n",
    "obj.data()"
   ]
  },
  {
   "cell_type": "code",
   "execution_count": 1,
   "id": "ebbe2895",
   "metadata": {},
   "outputs": [
    {
     "name": "stdout",
     "output_type": "stream",
     "text": [
      "Enter name = bnvsdfb\n",
      "Enter age = 45\n",
      "Enter address = fhsdbf\n",
      "Hello World Iam bnvsdfb.\n"
     ]
    }
   ],
   "source": [
    "# multi-level inheitance\n",
    "class Add:\n",
    "    def __init__(self,add):\n",
    "        self.__add = add\n",
    "    def add(self):\n",
    "        print(self.__add)\n",
    "        \n",
    "class Age:\n",
    "    def __inti__(self,age):\n",
    "        self.__age = age\n",
    "    def age(self):\n",
    "        print(self.__age)\n",
    "    \n",
    "class Data(Add,Age):\n",
    "    def __init__(self,name,age,add):\n",
    "        self.name = name\n",
    "        Age.__init__(self)\n",
    "        Add.__init__(self,add)\n",
    "        \n",
    "    def data(self):\n",
    "        print(f\"Hello World Iam {self.name}.\")\n",
    "        \n",
    "name = input(\"Enter name = \")\n",
    "age = int(input(\"Enter age = \"))\n",
    "add = input(\"Enter address = \")\n",
    "obj =Data(name,age,add)\n",
    "obj.data()"
   ]
  },
  {
   "cell_type": "code",
   "execution_count": 4,
   "id": "410501ab",
   "metadata": {},
   "outputs": [
    {
     "name": "stdout",
     "output_type": "stream",
     "text": [
      "Enter the length: 5\n",
      "Enter the breadth: 4\n",
      "Enter the height: 3\n",
      "20\n",
      "60\n"
     ]
    }
   ],
   "source": [
    "class Area:\n",
    "    def __init__(self,l,b):\n",
    "        self.l = l\n",
    "        self.b = b\n",
    "    def area(self):\n",
    "        a = self.l*self.b\n",
    "        print (a)\n",
    "\n",
    "class Volume(Area):\n",
    "    def __init__(self,l,b,h):\n",
    "        Area.__init__(self,l,b)\n",
    "        self.h = h\n",
    "    def volume(self):\n",
    "        v=self.l*self.b*self.h\n",
    "        print(v)\n",
    "\n",
    "l = int(input(\"Enter the length: \"))\n",
    "b = int(input(\"Enter the breadth: \"))\n",
    "h = int(input(\"Enter the height: \"))\n",
    "obj = Volume(l,b,h)\n",
    "obj.area()\n",
    "obj.volume()\n",
    "    "
   ]
  },
  {
   "cell_type": "code",
   "execution_count": 9,
   "id": "5f4e5b92",
   "metadata": {},
   "outputs": [
    {
     "name": "stdout",
     "output_type": "stream",
     "text": [
      "Enter the length: 5\n",
      "Enter the breadth: 4\n",
      "Enter the height: 3\n",
      "20\n",
      "60\n"
     ]
    }
   ],
   "source": [
    "class Length:\n",
    "    def __init__(self,l):\n",
    "        self.l = l\n",
    "class Area(Length):\n",
    "    def __init__(self,l,b):\n",
    "        self.b = b\n",
    "        Length.__init__(self,l)\n",
    "    def area(self):\n",
    "        a = self.l*self.b\n",
    "        print (a)\n",
    "        \n",
    "class Volume(Area):\n",
    "    def __init__(self,l,b,h):\n",
    "        Area.__init__(self,l,b)\n",
    "        self.h = h\n",
    "    def volume(self):\n",
    "        v=self.l*self.b*self.h\n",
    "        print(v)\n",
    "\n",
    "l = int(input(\"Enter the length: \"))\n",
    "b = int(input(\"Enter the breadth: \"))\n",
    "h = int(input(\"Enter the height: \"))\n",
    "obj = Volume(l,b,h)\n",
    "obj.area()\n",
    "obj.volume()\n",
    "    "
   ]
  },
  {
   "cell_type": "code",
   "execution_count": 23,
   "id": "432c90b3",
   "metadata": {},
   "outputs": [
    {
     "name": "stdout",
     "output_type": "stream",
     "text": [
      "Enter the length: 5\n",
      "Enter the breadth: 4\n",
      "Enter the height: 3\n"
     ]
    },
    {
     "ename": "NameError",
     "evalue": "name 'a' is not defined",
     "output_type": "error",
     "traceback": [
      "\u001b[1;31m---------------------------------------------------------------------------\u001b[0m",
      "\u001b[1;31mNameError\u001b[0m                                 Traceback (most recent call last)",
      "\u001b[1;32m~\\AppData\\Local\\Temp\\ipykernel_5976\\2236834048.py\u001b[0m in \u001b[0;36m<module>\u001b[1;34m\u001b[0m\n\u001b[0;32m     30\u001b[0m \u001b[0mobj\u001b[0m\u001b[1;33m.\u001b[0m\u001b[0marea\u001b[0m\u001b[1;33m(\u001b[0m\u001b[1;33m)\u001b[0m\u001b[1;33m\u001b[0m\u001b[1;33m\u001b[0m\u001b[0m\n\u001b[0;32m     31\u001b[0m \u001b[0mobj\u001b[0m\u001b[1;33m.\u001b[0m\u001b[0mvolume\u001b[0m\u001b[1;33m(\u001b[0m\u001b[1;33m)\u001b[0m\u001b[1;33m\u001b[0m\u001b[1;33m\u001b[0m\u001b[0m\n\u001b[1;32m---> 32\u001b[1;33m \u001b[0mobj\u001b[0m\u001b[1;33m.\u001b[0m\u001b[0mcal\u001b[0m\u001b[1;33m(\u001b[0m\u001b[1;33m)\u001b[0m\u001b[1;33m\u001b[0m\u001b[1;33m\u001b[0m\u001b[0m\n\u001b[0m\u001b[0;32m     33\u001b[0m \u001b[1;33m\u001b[0m\u001b[0m\n",
      "\u001b[1;32m~\\AppData\\Local\\Temp\\ipykernel_5976\\2236834048.py\u001b[0m in \u001b[0;36mcal\u001b[1;34m(self)\u001b[0m\n\u001b[0;32m     21\u001b[0m \u001b[1;33m\u001b[0m\u001b[0m\n\u001b[0;32m     22\u001b[0m     \u001b[1;32mdef\u001b[0m \u001b[0mcal\u001b[0m\u001b[1;33m(\u001b[0m\u001b[0mself\u001b[0m\u001b[1;33m)\u001b[0m\u001b[1;33m:\u001b[0m\u001b[1;33m\u001b[0m\u001b[1;33m\u001b[0m\u001b[0m\n\u001b[1;32m---> 23\u001b[1;33m         \u001b[0mprint\u001b[0m \u001b[1;33m(\u001b[0m\u001b[0ma\u001b[0m\u001b[1;33m)\u001b[0m\u001b[1;33m\u001b[0m\u001b[1;33m\u001b[0m\u001b[0m\n\u001b[0m\u001b[0;32m     24\u001b[0m         \u001b[0mprint\u001b[0m\u001b[1;33m(\u001b[0m\u001b[1;34m\"Volume: \"\u001b[0m\u001b[1;33m,\u001b[0m\u001b[0mv\u001b[0m\u001b[1;33m)\u001b[0m\u001b[1;33m\u001b[0m\u001b[1;33m\u001b[0m\u001b[0m\n\u001b[0;32m     25\u001b[0m \u001b[1;33m\u001b[0m\u001b[0m\n",
      "\u001b[1;31mNameError\u001b[0m: name 'a' is not defined"
     ]
    }
   ],
   "source": [
    "class Length:\n",
    "    def __init__(self,l):\n",
    "        self.l = l\n",
    "class Area(Length):\n",
    "    def __init__(self,l,b):\n",
    "        self.b = b\n",
    "        Length.__init__(self,l)\n",
    "    def area(self):\n",
    "            a = self.l*self.b\n",
    "            return a\n",
    "        \n",
    "        \n",
    "class Volume(Area):\n",
    "    def __init__(self,l,b,h):\n",
    "        Area.__init__(self,l,b)\n",
    "        self.h = h\n",
    "    def volume(self):\n",
    "            v=self.l*self.b*self.h\n",
    "            return v\n",
    "\n",
    "    \n",
    "    def cal(self):\n",
    "        print (a)\n",
    "        print(\"Volume: \",v)\n",
    "\n",
    "l = int(input(\"Enter the length: \"))\n",
    "b = int(input(\"Enter the breadth: \"))\n",
    "h = int(input(\"Enter the height: \"))\n",
    "obj =Volume(l,b,h)\n",
    "obj.area()\n",
    "obj.volume()\n",
    "obj.cal()\n",
    "    "
   ]
  },
  {
   "cell_type": "code",
   "execution_count": 24,
   "id": "945f6c60",
   "metadata": {},
   "outputs": [
    {
     "name": "stdout",
     "output_type": "stream",
     "text": [
      "Starting __init__ of C\n",
      "Starting __init__ of A\n",
      "ending __init__ of A\n",
      "ending __init__ of C\n"
     ]
    }
   ],
   "source": [
    "class A():  \n",
    "    def __init__(self):\n",
    "        print(\"Starting __init__ of A\")\n",
    "        self.name = \"Tony Stark\"\n",
    "        print(\"ending __init__ of A\")\n",
    "    def display(self):\n",
    "        print(\"method of class A\")\n",
    "   \n",
    "class B():  \n",
    "    def __init__(self):\n",
    "        print(\"Starting __init__ of B\")\n",
    "        self.name = \"Steve Rogers\"\n",
    "        print(\"ending __init__ of B\")\n",
    "        \n",
    "    def display(self):\n",
    "        print(\"method of class B\")\n",
    "  \n",
    "class C(A, B):\n",
    "    def __init__(self):\n",
    "        print(\"Starting __init__ of C\")\n",
    "        super().__init__()\n",
    "        print(\"ending __init__ of C\")\n",
    "        \n",
    "    def display(self):\n",
    "        print(\"method of class C\")\n",
    "        \n",
    "c1 = C()"
   ]
  },
  {
   "cell_type": "code",
   "execution_count": null,
   "id": "2c34dedb",
   "metadata": {},
   "outputs": [],
   "source": []
  },
  {
   "cell_type": "code",
   "execution_count": null,
   "id": "e72115f9",
   "metadata": {},
   "outputs": [],
   "source": []
  }
 ],
 "metadata": {
  "kernelspec": {
   "display_name": "Python 3 (ipykernel)",
   "language": "python",
   "name": "python3"
  },
  "language_info": {
   "codemirror_mode": {
    "name": "ipython",
    "version": 3
   },
   "file_extension": ".py",
   "mimetype": "text/x-python",
   "name": "python",
   "nbconvert_exporter": "python",
   "pygments_lexer": "ipython3",
   "version": "3.9.13"
  }
 },
 "nbformat": 4,
 "nbformat_minor": 5
}
