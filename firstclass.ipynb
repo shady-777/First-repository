{
 "cells": [
  {
   "cell_type": "code",
   "execution_count": null,
   "id": "9160b306",
   "metadata": {},
   "outputs": [],
   "source": [
    "#control statement\n",
    "#break\n",
    "#continue"
   ]
  },
  {
   "cell_type": "code",
   "execution_count": 2,
   "id": "aee2df7a",
   "metadata": {},
   "outputs": [
    {
     "name": "stdout",
     "output_type": "stream",
     "text": [
      "0\n",
      "1\n",
      "2\n",
      "3\n",
      "4\n",
      "5\n"
     ]
    }
   ],
   "source": [
    "for i in range(10):\n",
    "    if i ==6:\n",
    "        break\n",
    "    print (i)"
   ]
  },
  {
   "cell_type": "code",
   "execution_count": 5,
   "id": "0e5f35eb",
   "metadata": {},
   "outputs": [
    {
     "name": "stdout",
     "output_type": "stream",
     "text": [
      "012345789"
     ]
    }
   ],
   "source": [
    "for i in range(10):\n",
    "    if i ==6:\n",
    "        continue\n",
    "    print (i,end = \"\")"
   ]
  },
  {
   "cell_type": "code",
   "execution_count": 7,
   "id": "a255dab9",
   "metadata": {},
   "outputs": [
    {
     "name": "stdout",
     "output_type": "stream",
     "text": [
      "36912151821242730"
     ]
    }
   ],
   "source": [
    "for i in range(1,31):\n",
    "    if i%3 != 0:\n",
    "        continue\n",
    "    print (i,end = \"\")"
   ]
  },
  {
   "cell_type": "code",
   "execution_count": null,
   "id": "fe235ed0",
   "metadata": {},
   "outputs": [],
   "source": [
    "#while loop\n",
    "#while <condition>:\n",
    "#    <operation>:"
   ]
  },
  {
   "cell_type": "code",
   "execution_count": 9,
   "id": "67cb98b2",
   "metadata": {},
   "outputs": [
    {
     "name": "stdout",
     "output_type": "stream",
     "text": [
      "0 Hello World\n",
      "1 Hello World\n",
      "2 Hello World\n",
      "3 Hello World\n",
      "4 Hello World\n"
     ]
    }
   ],
   "source": [
    "a=0\n",
    "while a<5:\n",
    "    print(a,'Hello World')\n",
    "    a = a+1"
   ]
  },
  {
   "cell_type": "code",
   "execution_count": null,
   "id": "42c2d490",
   "metadata": {},
   "outputs": [],
   "source": [
    "a=5\n",
    "while a>0:\n",
    "    print(a,\"Hello World\")\n",
    "    a = a-1"
   ]
  },
  {
   "cell_type": "code",
   "execution_count": null,
   "id": "54ae275f",
   "metadata": {},
   "outputs": [],
   "source": [
    "i=1\n",
    "n = int(input(\"Enter n = \"))\n",
    "while i<=10:\n",
    "    print(n,\"*\",i,\"=\",n*i)\n",
    "    i=i+1"
   ]
  },
  {
   "cell_type": "code",
   "execution_count": null,
   "id": "bd53d9d4",
   "metadata": {},
   "outputs": [
    {
     "name": "stdout",
     "output_type": "stream",
     "text": [
      "Enter n = 23\n",
      "Enter value = 1\n",
      "1\n",
      "Enter value = 2\n",
      "3\n",
      "Enter value = 4\n",
      "7\n",
      "Enter value = 89\n",
      "96\n"
     ]
    }
   ],
   "source": [
    "s = 0\n",
    "i = 0\n",
    "n = int(input(\"Enter n = \"))\n",
    "while i<n:\n",
    "    x =int(input(\"Enter value = \"))\n",
    "    s = s+ x\n",
    "    i = i+1\n",
    "    print(s)"
   ]
  },
  {
   "cell_type": "code",
   "execution_count": 1,
   "id": "6bbb3c01",
   "metadata": {},
   "outputs": [
    {
     "name": "stdout",
     "output_type": "stream",
     "text": [
      "Enter n = 2\n",
      "Enter name = Manoj khanal\n",
      "Enter phone = 9869316346\n",
      "Enter name = Davide\n",
      "Enter phone = 985702636747\n",
      "Manoj khanal 9869316346\n",
      "Davide 985702636747\n",
      "\n"
     ]
    }
   ],
   "source": [
    "s =\"\"\n",
    "i = 0\n",
    "n = int(input(\"Enter n = \"))\n",
    "while i<n:\n",
    "    name = input(\"Enter name = \")\n",
    "    phone = input(\"Enter phone = \")\n",
    "    \n",
    "    s = s + name + \" \" + phone +\"\\n\"\n",
    "    i = i + 1\n",
    "print(s)"
   ]
  },
  {
   "cell_type": "code",
   "execution_count": null,
   "id": "c3fd891d",
   "metadata": {},
   "outputs": [],
   "source": [
    "n = int(input(\"Enter the value n =\"))\n",
    "if n>=2:\n",
    "for i in range(2,n):\n",
    "     if n%i ==0:\n",
    "        print(n,\"is composite number\")\n",
    "        break\n",
    "else:\n",
    "     print(n,\"is prime number\")\n",
    "        "
   ]
  },
  {
   "cell_type": "code",
   "execution_count": null,
   "id": "d3d333ef",
   "metadata": {},
   "outputs": [],
   "source": [
    "#in while loop homework"
   ]
  },
  {
   "cell_type": "code",
   "execution_count": 1,
   "id": "ae70d224",
   "metadata": {},
   "outputs": [
    {
     "data": {
      "text/plain": [
       "'C:\\\\Users\\\\USER\\\\Desktop\\\\Pythonprograms'"
      ]
     },
     "execution_count": 1,
     "metadata": {},
     "output_type": "execute_result"
    }
   ],
   "source": [
    "pwd\n"
   ]
  }
 ],
 "metadata": {
  "kernelspec": {
   "display_name": "Python 3 (ipykernel)",
   "language": "python",
   "name": "python3"
  },
  "language_info": {
   "codemirror_mode": {
    "name": "ipython",
    "version": 3
   },
   "file_extension": ".py",
   "mimetype": "text/x-python",
   "name": "python",
   "nbconvert_exporter": "python",
   "pygments_lexer": "ipython3",
   "version": "3.9.13"
  }
 },
 "nbformat": 4,
 "nbformat_minor": 5
}
