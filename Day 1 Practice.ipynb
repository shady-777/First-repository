{
 "cells": [
  {
   "cell_type": "code",
   "execution_count": 3,
   "id": "a09043c3",
   "metadata": {},
   "outputs": [
    {
     "name": "stdout",
     "output_type": "stream",
     "text": [
      "1\n"
     ]
    }
   ],
   "source": [
    "a = True\n",
    "b = False\n",
    "c = a+b\n",
    "print (c)"
   ]
  },
  {
   "cell_type": "code",
   "execution_count": 2,
   "id": "e405c29d",
   "metadata": {},
   "outputs": [
    {
     "name": "stdout",
     "output_type": "stream",
     "text": [
      "4\n"
     ]
    }
   ],
   "source": [
    "def inc(x):\n",
    "    return x+1\n",
    "def operate(func,x):\n",
    "    result = func(x)\n",
    "    return result\n",
    "print(operate(inc,3))"
   ]
  },
  {
   "cell_type": "code",
   "execution_count": 3,
   "id": "03fb17db",
   "metadata": {},
   "outputs": [
    {
     "data": {
      "text/plain": [
       "[1, 2, 3, 4, 5, 6, 7, 8, 9, 10]"
      ]
     },
     "execution_count": 3,
     "metadata": {},
     "output_type": "execute_result"
    }
   ],
   "source": [
    "list(range(1,11))"
   ]
  },
  {
   "cell_type": "code",
   "execution_count": 4,
   "id": "9aa00984",
   "metadata": {},
   "outputs": [
    {
     "name": "stdout",
     "output_type": "stream",
     "text": [
      "hello Python is awesome\n"
     ]
    }
   ],
   "source": [
    "def print_msg(message):\n",
    "    greeting = \"hello\"\n",
    "    \n",
    "    def printer():\n",
    "        print(greeting,message)\n",
    "        \n",
    "    return printer\n",
    "\n",
    "func = print_msg(\"Python is awesome\")\n",
    "func()"
   ]
  },
  {
   "cell_type": "code",
   "execution_count": 9,
   "id": "4c1089d1",
   "metadata": {},
   "outputs": [
    {
     "name": "stdout",
     "output_type": "stream",
     "text": [
      "Executing printer function\n",
      "Hello World\n",
      "Finished execution\n"
     ]
    }
   ],
   "source": [
    "def printer():\n",
    "    print(\"Hello World\")\n",
    "    \n",
    "def display_info(func):\n",
    "\n",
    "    def inner():\n",
    "        print(\"Executing\", func.__name__,\"function\")\n",
    "        func()\n",
    "        print(\"Finished execution\")\n",
    "    return inner\n",
    "\n",
    "decorator_func = display_info(printer)\n",
    "decorator_func()"
   ]
  },
  {
   "cell_type": "code",
   "execution_count": 6,
   "id": "3d45a388",
   "metadata": {},
   "outputs": [
    {
     "data": {
      "text/plain": [
       "'10'"
      ]
     },
     "execution_count": 6,
     "metadata": {},
     "output_type": "execute_result"
    }
   ],
   "source": [
    "a = 10\n",
    "b = str(a)\n",
    "b\n"
   ]
  },
  {
   "cell_type": "code",
   "execution_count": 12,
   "id": "c301f901",
   "metadata": {},
   "outputs": [
    {
     "name": "stdout",
     "output_type": "stream",
     "text": [
      "Manoj khanal\n"
     ]
    }
   ],
   "source": [
    "\n",
    "c = 'Manoj'\n",
    "d = 'khanal'\n",
    "e = c +\" \"+ d\n",
    "print (e)\n"
   ]
  },
  {
   "cell_type": "code",
   "execution_count": 2,
   "id": "3cec00a7",
   "metadata": {},
   "outputs": [
    {
     "name": "stdout",
     "output_type": "stream",
     "text": [
      "Enter the length:5\n",
      "Enter the breadth:43\n",
      "215 is the area of rectangle\n"
     ]
    }
   ],
   "source": [
    "l = int(input(\"Enter the length:\"))\n",
    "b = int(input(\"Enter the breadth:\"))\n",
    "a = l*b\n",
    "print(a,\"is the area of rectangle\")\n"
   ]
  },
  {
   "cell_type": "code",
   "execution_count": 4,
   "id": "7d6806dc",
   "metadata": {},
   "outputs": [
    {
     "name": "stdout",
     "output_type": "stream",
     "text": [
      "True\n"
     ]
    }
   ],
   "source": [
    "a = 10\n",
    "b = 10\n",
    "print(a==b)"
   ]
  },
  {
   "cell_type": "code",
   "execution_count": 6,
   "id": "c7174ace",
   "metadata": {},
   "outputs": [
    {
     "name": "stdout",
     "output_type": "stream",
     "text": [
      "Enter the first number: 40\n",
      "Enter the second number: 5\n",
      "you have failed to do the task\n"
     ]
    }
   ],
   "source": [
    "a = int(input(\"Enter the first number: \"))\n",
    "b = int(input(\"Enter the second number: \"))\n",
    "c = a + b\n",
    "if c>50:\n",
    "    print(\"You have done a brilliant job\")\n",
    "else:\n",
    "    print(\"you have failed to do the task\")"
   ]
  },
  {
   "cell_type": "code",
   "execution_count": 11,
   "id": "c9d8eafd",
   "metadata": {},
   "outputs": [
    {
     "name": "stdout",
     "output_type": "stream",
     "text": [
      "Enter a = 2\n",
      "Enter b = 0\n",
      "Enter o = +\n",
      "2\n"
     ]
    }
   ],
   "source": [
    "a = int(input(\"Enter a = \"))\n",
    "b = int(input(\"Enter b = \"))\n",
    "o = input(\"Enter o = \")\n",
    "if o == '+':\n",
    "    print(a+b)\n",
    "elif o == '-':\n",
    "    print(a-b)\n",
    "elif o == '*':\n",
    "    print(a*b)\n",
    "elif o == '/':\n",
    "    \n",
    "    if b == 0:\n",
    "        print(\"Enter the valid expression\")\n",
    "    elif c == a/b:\n",
    "        print(c)\n",
    "else:\n",
    "    print(\"Enter Valid Operator\")"
   ]
  },
  {
   "cell_type": "code",
   "execution_count": 12,
   "id": "0b2d34c6",
   "metadata": {},
   "outputs": [
    {
     "name": "stdout",
     "output_type": "stream",
     "text": [
      "Hello World\n",
      "Hello World\n",
      "Hello World\n",
      "Hello World\n",
      "Hello World\n"
     ]
    }
   ],
   "source": [
    "#loop \n",
    "#for...range\n",
    "for i in range(5):\n",
    "    print(\"Hello World\")\n"
   ]
  },
  {
   "cell_type": "code",
   "execution_count": 18,
   "id": "1cf14362",
   "metadata": {},
   "outputs": [
    {
     "name": "stdout",
     "output_type": "stream",
     "text": [
      "b  \n",
      "a  \n",
      "n  \n",
      "a  \n",
      "n  \n",
      "a  \n"
     ]
    }
   ],
   "source": [
    "for x in \"banana\":\n",
    "    print(x,\" \")\n"
   ]
  },
  {
   "cell_type": "code",
   "execution_count": null,
   "id": "84f50248",
   "metadata": {},
   "outputs": [
    {
     "name": "stdout",
     "output_type": "stream",
     "text": [
      "Enter a number: 6\n",
      "6 * 1 = 6\n",
      "6 * 2 = 12\n",
      "6 * 3 = 18\n",
      "6 * 4 = 24\n",
      "6 * 5 = 30\n",
      "6 * 6 = 36\n",
      "6 * 7 = 42\n",
      "6 * 8 = 48\n",
      "6 * 9 = 54\n",
      "6 * 10 = 60\n"
     ]
    }
   ],
   "source": [
    "\n",
    "for j in range(1,11):\n",
    "    n = int(input(\"Enter a number: \"))\n",
    "    for i in range(1,11):\n",
    "        print(n,\"*\",i,\"=\",n*i)\n",
    "    "
   ]
  },
  {
   "cell_type": "code",
   "execution_count": 18,
   "id": "1ca4fe9c",
   "metadata": {},
   "outputs": [
    {
     "name": "stdout",
     "output_type": "stream",
     "text": [
      "Enter a number: 45\n",
      "the sum of digits of given number is: 9\n"
     ]
    }
   ],
   "source": [
    "n = int(input(\"Enter a number: \"))\n",
    "s = 0\n",
    "while(n):\n",
    "    a = n%10\n",
    "    s = s + a\n",
    "    n = n//10\n",
    "        \n",
    "print(\"the sum of digits of given number is:\",s)\n",
    "    \n",
    "    "
   ]
  },
  {
   "cell_type": "code",
   "execution_count": 2,
   "id": "498d318e",
   "metadata": {},
   "outputs": [
    {
     "name": "stdout",
     "output_type": "stream",
     "text": [
      "4\n"
     ]
    }
   ],
   "source": [
    "f=134\n",
    "s=f%10\n",
    "print(s)"
   ]
  },
  {
   "cell_type": "code",
   "execution_count": null,
   "id": "a0a06063",
   "metadata": {},
   "outputs": [],
   "source": []
  },
  {
   "cell_type": "code",
   "execution_count": 21,
   "id": "266647f9",
   "metadata": {},
   "outputs": [
    {
     "name": "stdout",
     "output_type": "stream",
     "text": [
      "11\n",
      "1\n"
     ]
    }
   ],
   "source": [
    "a=111\n",
    "s = a//10\n",
    "m = a%10\n",
    "print (s)\n",
    "print (m)"
   ]
  },
  {
   "cell_type": "code",
   "execution_count": null,
   "id": "48d904b4",
   "metadata": {},
   "outputs": [],
   "source": [
    "s = 0\n",
    "for i in range(1,11):\n",
    "    n = int(input(\"Enter a number:\"))\n",
    "    s = s+n\n",
    "avg=s/1o\n",
    "print(avg)"
   ]
  },
  {
   "cell_type": "code",
   "execution_count": 28,
   "id": "8f7489dd",
   "metadata": {},
   "outputs": [
    {
     "name": "stdout",
     "output_type": "stream",
     "text": [
      "1  \n",
      "3  \n",
      "5  \n",
      "7  \n",
      "9  \n",
      "11  \n",
      "13  \n",
      "15  \n",
      "17  \n",
      "19  \n"
     ]
    }
   ],
   "source": [
    "for i in range(1,21):\n",
    "    if i%2!=0 and i%3!=3:\n",
    "        print (i,\" \")\n",
    "    "
   ]
  },
  {
   "cell_type": "code",
   "execution_count": 32,
   "id": "ff058414",
   "metadata": {},
   "outputs": [
    {
     "name": "stdout",
     "output_type": "stream",
     "text": [
      "Enter the number:23\n",
      "5\n",
      "The given number is not palindrome\n"
     ]
    }
   ],
   "source": [
    "n = int(input(\"Enter the number:\"))\n",
    "a=n\n",
    "s=0\n",
    "while(n):\n",
    "    r=n%10\n",
    "    s= s*10 + r\n",
    "    n=n//10 \n",
    "print (s)\n",
    "if s==a:\n",
    "    print(\"The given number is palindrome\")\n",
    "else:\n",
    "    print(\"The given number is not palindrome\")"
   ]
  },
  {
   "cell_type": "code",
   "execution_count": 4,
   "id": "d24aba63",
   "metadata": {},
   "outputs": [
    {
     "name": "stdout",
     "output_type": "stream",
     "text": [
      "Enter a number: 64\n",
      "the given number is not prime\n"
     ]
    }
   ],
   "source": [
    "num = int(input(\"Enter a number: \"))\n",
    "f=0\n",
    "if num==0 or num==1:\n",
    "    f=1\n",
    "for i in range(2,num):\n",
    "    if num%i==0:\n",
    "        f=1\n",
    "if f==1:\n",
    "     print('the given number is not prime')\n",
    "else:\n",
    "    print('the given number is  prime')\n",
    "    "
   ]
  },
  {
   "cell_type": "code",
   "execution_count": 5,
   "id": "c6e9f6dc",
   "metadata": {},
   "outputs": [
    {
     "name": "stdout",
     "output_type": "stream",
     "text": [
      "Enter n = 1\n",
      "Please enter valid no.\n"
     ]
    }
   ],
   "source": [
    "n = int(input(\"Enter n = \"))\n",
    "if n >=2:\n",
    "    for i in range(2,n):\n",
    "        if n%i==0:\n",
    "            print(n,\"is Composite no\")\n",
    "            break\n",
    "    else:\n",
    "        print(n,\"is Prime no\")\n",
    "\n",
    "else:\n",
    "    print(\"Please enter valid no.\")"
   ]
  },
  {
   "cell_type": "code",
   "execution_count": null,
   "id": "264d1cb6",
   "metadata": {},
   "outputs": [
    {
     "name": "stdout",
     "output_type": "stream",
     "text": [
      "Enter a number: 2\n",
      "0\n",
      "Enter a number: 3\n",
      "the given number is Prime\n",
      "0\n"
     ]
    }
   ],
   "source": [
    "def prim():\n",
    "    \n",
    "    n=int(input(\"Enter a number: \"))\n",
    "    \n",
    "        \n",
    "    if n>=2:\n",
    "        for i in range(2,n):\n",
    "            if n%i==0:\n",
    "                \n",
    "                print(\"the given number is composite\")\n",
    "                break\n",
    "            else:\n",
    "                \n",
    "                print(\"the given number is Prime\")\n",
    "                break\n",
    "                    \n",
    "    else:\n",
    "         print(\"Enter the valid number\")\n",
    "    return 0\n",
    "        \n",
    "for i in range(1,11):\n",
    "    print(prim())\n",
    "            \n",
    "        \n",
    "         \n",
    "            \n",
    "            \n",
    "prim()\n",
    "    "
   ]
  },
  {
   "cell_type": "code",
   "execution_count": 3,
   "id": "7bb06779",
   "metadata": {},
   "outputs": [
    {
     "name": "stdout",
     "output_type": "stream",
     "text": [
      "Enter a number:45\n",
      "odd\n",
      "Enter a number:45\n",
      "odd\n",
      "Enter a number:2\n",
      "even\n",
      "Enter a number:6\n",
      "even\n",
      "Enter a number:8\n",
      "even\n",
      "Enter a number:9\n",
      "odd\n",
      "Enter a number:87\n",
      "odd\n",
      "Enter a number:56\n",
      "even\n",
      "Enter a number:45\n",
      "odd\n",
      "Enter a number:435\n",
      "odd\n"
     ]
    }
   ],
   "source": [
    "def even(number):\n",
    "    number=int(input(\"Enter a number:\"))\n",
    "    if number%2==0:\n",
    "        return 'even'\n",
    "    else:\n",
    "        return 'odd'\n",
    "for i in range(1,11):\n",
    "    print(even(i))"
   ]
  },
  {
   "cell_type": "code",
   "execution_count": null,
   "id": "f1b68086",
   "metadata": {},
   "outputs": [],
   "source": [
    "def primn()"
   ]
  },
  {
   "cell_type": "code",
   "execution_count": null,
   "id": "67a56699",
   "metadata": {},
   "outputs": [],
   "source": [
    "def max(a,b,c):\n",
    "    a=int(input(\"Enter the first number: \"))\n",
    "    b=int(input(\"Enter the second number: \"))\n",
    "    c=int(input(\"Enter the third number: \"))\n",
    "    if a<b>c:\n",
    "        print(\"The greatest number is:\",b)\n",
    "        \n",
    "    elif b<a>c:\n",
    "            print(\"The greatest number is:\",a)\n",
    "    else:\n",
    "        \n",
    "        print(\"The greatest number is:\",c)\n",
    "        max()\n",
    "max(a,b,c)\n",
    "            \n",
    "        "
   ]
  },
  {
   "cell_type": "code",
   "execution_count": 5,
   "id": "d263c457",
   "metadata": {},
   "outputs": [
    {
     "name": "stdout",
     "output_type": "stream",
     "text": [
      "Enter the first number: 5\n",
      "Enter the second number: 7\n",
      "Enter the third number: 2\n",
      "The greatest number is: 7\n"
     ]
    }
   ],
   "source": [
    "def max():\n",
    "    a=int(input(\"Enter the first number: \"))\n",
    "    b=int(input(\"Enter the second number: \"))\n",
    "    c=int(input(\"Enter the third number: \"))\n",
    "    if a<b>c:\n",
    "        print(\"The greatest number is:\",b)\n",
    "        \n",
    "    elif b<a>c:\n",
    "            print(\"The greatest number is:\",a)\n",
    "    else:\n",
    "        \n",
    "        print(\"The greatest number is:\",c)\n",
    "        \n",
    "max()"
   ]
  },
  {
   "cell_type": "code",
   "execution_count": 6,
   "id": "92616cd4",
   "metadata": {},
   "outputs": [
    {
     "name": "stdout",
     "output_type": "stream",
     "text": [
      "6\n"
     ]
    }
   ],
   "source": [
    "def max_of_two( x, y ):\n",
    "    if x > y:\n",
    "        return x\n",
    "    return y\n",
    "def max_of_three( x, y, z ):\n",
    "    return max_of_two( x, max_of_two( y, z ) )\n",
    "print(max_of_three(3, 6, -5))\n"
   ]
  },
  {
   "cell_type": "code",
   "execution_count": 8,
   "id": "37013c91",
   "metadata": {},
   "outputs": [
    {
     "name": "stdout",
     "output_type": "stream",
     "text": [
      "Enter the first number: 3\n",
      "Enter the second number: 5\n",
      "Enter the third number: 1\n",
      "5\n"
     ]
    }
   ],
   "source": [
    "def max_of_two( x, y ):\n",
    "    if x > y:\n",
    "        return x\n",
    "    return y\n",
    "def max_of_three( x, y, z ):\n",
    "    return max_of_two( x, max_of_two( y, z ) )\n",
    "x=int(input(\"Enter the first number: \"))\n",
    "y=int(input(\"Enter the second number: \"))\n",
    "z=int(input(\"Enter the third number: \"))\n",
    "print(max_of_three(x,y,z))\n",
    "\n",
    "\n",
    "hrtth(\"ffjf\")"
   ]
  },
  {
   "cell_type": "code",
   "execution_count": 6,
   "id": "b580433b",
   "metadata": {},
   "outputs": [
    {
     "name": "stdout",
     "output_type": "stream",
     "text": [
      "Enter a string: manoj\n",
      "This is not\n"
     ]
    }
   ],
   "source": [
    "def reverse():\n",
    "    a=input(\"Enter a string: \")\n",
    "    b=(a[-1::-1])\n",
    "    if b==a:\n",
    "        print(\"This is a palindrtome string\")\n",
    "    else:\n",
    "        print(\"This is not\")\n",
    "reverse()\n"
   ]
  },
  {
   "cell_type": "code",
   "execution_count": null,
   "id": "a6ff3082",
   "metadata": {},
   "outputs": [],
   "source": [
    "# FACTORIAL USLING FUNCTION\n",
    "num=int(input (\"Enter a number:  \",))\n",
    "def factorial(fn):\n",
    "    f=0\n",
    "    i=1\n",
    "    while num>=1:\n",
    "        f=num*i"
   ]
  },
  {
   "cell_type": "code",
   "execution_count": 9,
   "id": "c502cd48",
   "metadata": {},
   "outputs": [
    {
     "name": "stdout",
     "output_type": "stream",
     "text": [
      "Input a number to compute the factiorial : 0\n",
      "1\n"
     ]
    }
   ],
   "source": [
    "def factorial(n):\n",
    "    if n == 0:\n",
    "        return 1\n",
    "    else:\n",
    "        return n * factorial(n-1)\n",
    "n=int(input(\"Input a number to compute the factiorial : \"))\n",
    "print(factorial(n))"
   ]
  },
  {
   "cell_type": "code",
   "execution_count": null,
   "id": "3ccd0829",
   "metadata": {},
   "outputs": [],
   "source": [
    "l=[]\n",
    "\n",
    "for i in a"
   ]
  },
  {
   "cell_type": "code",
   "execution_count": null,
   "id": "3535a6f3",
   "metadata": {},
   "outputs": [],
   "source": [
    "def max_num_in_list( list ):\n",
    "    max = list[ 0 ]\n",
    "    for a in list:\n",
    "        if a > max:\n",
    "            max = a\n",
    "    return max\n",
    "print(max_num_in_list([1, 2, -8, 0]))\n"
   ]
  },
  {
   "cell_type": "code",
   "execution_count": 1,
   "id": "8e8800f3",
   "metadata": {},
   "outputs": [],
   "source": [
    "b=open('files.txt','x')\n",
    "b.close()"
   ]
  },
  {
   "cell_type": "code",
   "execution_count": 1,
   "id": "1e5e0e9a",
   "metadata": {},
   "outputs": [
    {
     "name": "stdout",
     "output_type": "stream",
     "text": [
      "Student ID: S122\n",
      "Student Name: Wilson Medina\n",
      "Class: VI\n"
     ]
    }
   ],
   "source": [
    "def student(student_id, student_name, student_class):\n",
    "    return f'Student ID: {student_id}\\nStudent Name: {student_name}\\nClass: {student_class}'\n",
    "print(student('S122', 'Wilson Medina', 'VI'))"
   ]
  },
  {
   "cell_type": "code",
   "execution_count": 6,
   "id": "b80bde8b",
   "metadata": {},
   "outputs": [],
   "source": [
    "from turtle import *\n",
    "color(\"red\")\n",
    "begin_fill()\n",
    "pensize(3)\n",
    "left(50)\n",
    "forward(133)\n",
    "circle(50,200)\n",
    "right(140)\n",
    "circle(50,200)\n",
    "forward(133)\n",
    "end_fill()"
   ]
  },
  {
   "cell_type": "code",
   "execution_count": 9,
   "id": "6a13f887",
   "metadata": {},
   "outputs": [
    {
     "ename": "SyntaxError",
     "evalue": "invalid syntax (457753874.py, line 1)",
     "output_type": "error",
     "traceback": [
      "\u001b[1;36m  File \u001b[1;32m\"C:\\Users\\USER\\AppData\\Local\\Temp\\ipykernel_26680\\457753874.py\"\u001b[1;36m, line \u001b[1;32m1\u001b[0m\n\u001b[1;33m    python -m pip install turtle\u001b[0m\n\u001b[1;37m              ^\u001b[0m\n\u001b[1;31mSyntaxError\u001b[0m\u001b[1;31m:\u001b[0m invalid syntax\n"
     ]
    }
   ],
   "source": [
    "python -m pip install turtle"
   ]
  }
 ],
 "metadata": {
  "kernelspec": {
   "display_name": "Python 3 (ipykernel)",
   "language": "python",
   "name": "python3"
  },
  "language_info": {
   "codemirror_mode": {
    "name": "ipython",
    "version": 3
   },
   "file_extension": ".py",
   "mimetype": "text/x-python",
   "name": "python",
   "nbconvert_exporter": "python",
   "pygments_lexer": "ipython3",
   "version": "3.9.13"
  }
 },
 "nbformat": 4,
 "nbformat_minor": 5
}
