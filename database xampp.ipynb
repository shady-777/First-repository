{
 "cells": [
  {
   "cell_type": "code",
   "execution_count": 1,
   "id": "c1090634",
   "metadata": {},
   "outputs": [
    {
     "name": "stdout",
     "output_type": "stream",
     "text": [
      "Defaulting to user installation because normal site-packages is not writeable\n",
      "Collecting mysql-connector\n",
      "  Downloading mysql-connector-2.2.9.tar.gz (11.9 MB)\n",
      "     -------------------------------------- 11.9/11.9 MB 346.6 kB/s eta 0:00:00\n",
      "  Preparing metadata (setup.py): started\n",
      "  Preparing metadata (setup.py): finished with status 'done'\n",
      "Building wheels for collected packages: mysql-connector\n",
      "  Building wheel for mysql-connector (setup.py): started\n",
      "  Building wheel for mysql-connector (setup.py): finished with status 'done'\n",
      "  Created wheel for mysql-connector: filename=mysql_connector-2.2.9-cp39-cp39-win_amd64.whl size=247946 sha256=8299d570109172a6366acbd8165b2557a62f759146eed04966f727e516def900\n",
      "  Stored in directory: c:\\users\\user\\appdata\\local\\pip\\cache\\wheels\\7b\\14\\39\\5aad423666e827dfe9a1fbcd111ac17171e7c9865d570780ce\n",
      "Successfully built mysql-connector\n",
      "Installing collected packages: mysql-connector\n",
      "Successfully installed mysql-connector-2.2.9\n"
     ]
    }
   ],
   "source": [
    "!pip install mysql-connector"
   ]
  },
  {
   "cell_type": "code",
   "execution_count": 2,
   "id": "0584eb46",
   "metadata": {},
   "outputs": [],
   "source": [
    "import mysql.connector\n",
    "\n",
    "database = mysql.connector.connect(\n",
    "    host=\"localhost\",\n",
    "    user=\"root\",\n",
    "    password=\"\",\n",
    "\n",
    "  database = \"firstdatabase\"\n",
    ")\n",
    "db = database.cursor()"
   ]
  },
  {
   "cell_type": "code",
   "execution_count": 3,
   "id": "8a1b91bb",
   "metadata": {},
   "outputs": [
    {
     "name": "stdout",
     "output_type": "stream",
     "text": [
      "Defaulting to user installation because normal site-packages is not writeable\n",
      "Requirement already satisfied: mysql-connector in c:\\users\\user\\appdata\\roaming\\python\\python39\\site-packages (2.2.9)\n"
     ]
    }
   ],
   "source": [
    "!pip install mysql-connector"
   ]
  },
  {
   "cell_type": "code",
   "execution_count": 2,
   "id": "3e000b7a",
   "metadata": {},
   "outputs": [],
   "source": [
    "import mysql.connector\n",
    "\n",
    "database = mysql.connector.connect(\n",
    "    host=\"localhost\",\n",
    "    user=\"root\",\n",
    "    password=\"\",\n",
    "\n",
    "  database = \"firstdatabase\"\n",
    ")\n",
    "db = database.cursor()"
   ]
  },
  {
   "cell_type": "code",
   "execution_count": 38,
   "id": "ccfab04a",
   "metadata": {},
   "outputs": [
    {
     "data": {
      "text/plain": [
       "[(3, 'Hari', 89, 78, 98, 89, 78, 480, 85.0, 'A'),\n",
       " (5, 'Muskan', 85, 83, 99, 91, 90, 485, 90.0, 'A')]"
      ]
     },
     "execution_count": 38,
     "metadata": {},
     "output_type": "execute_result"
    }
   ],
   "source": [
    "sql =\"SELECT * FROM student WHERE Grade ='A'\"\n",
    "db.execute(sql)\n",
    "result =db.fetchall()\n",
    "result"
   ]
  },
  {
   "cell_type": "code",
   "execution_count": 3,
   "id": "fdbceb0f",
   "metadata": {},
   "outputs": [
    {
     "name": "stdout",
     "output_type": "stream",
     "text": [
      "enter your name: kasi\n",
      "enter physics marks: 56\n",
      "enter chemistry marks: 67\n",
      "enter math marks: 78\n",
      "enter english marks: 89\n",
      "enter nepali marks: 56\n",
      "enter total marks: 289\n",
      "enter percentage: 58\n",
      "enter grade: D\n"
     ]
    }
   ],
   "source": [
    "Name=input('enter your name: ')\n",
    "Physics =int(input(\"enter physics marks: \"))\n",
    "Chemistry = int(input(\"enter chemistry marks: \"))\n",
    "Math = int(input(\"enter math marks: \"))\n",
    "English = int(input(\"enter english marks: \"))\n",
    "Nepal = int(input(\"enter nepali marks: \"))\n",
    "Total=int(input(\"enter total marks: \"))\n",
    "Per=int(input(\"enter percentage: \"))\n",
    "Grade=input(\"enter grade: \")\n",
    "\n",
    "\n",
    "\n",
    "sql= f'''INSERT INTO student(Name,Physics, Chemistry, Math, English, Nepal, Total, Per, Grade)\n",
    "VALUES ('{Name}',{Physics},{Chemistry},{Math},{English},{Nepal},{Total},{Per},'{Grade}')'''\n",
    "db.execute(sql)\n",
    "database.commit()"
   ]
  },
  {
   "cell_type": "code",
   "execution_count": null,
   "id": "21697eac",
   "metadata": {},
   "outputs": [],
   "source": [
    "sql= f'''UPDATE student SET name='Bikash' WHERE SN=6'''\n",
    "db.execute(sql)\n",
    "database.commit()"
   ]
  },
  {
   "cell_type": "code",
   "execution_count": null,
   "id": "246189c2",
   "metadata": {},
   "outputs": [],
   "source": [
    "#                         Python + MySql\n",
    "\n",
    "#     Install MySql\n",
    "#             Go to inside your Virtual environment and type:\n",
    "\n",
    "#             python -m pip install mysql-connector\n",
    "            \n",
    "            \n",
    "            \n",
    "#                         Create a database\n",
    "\n",
    "# import mysql.connector\n",
    "# #importing database\n",
    "# database = mysql.connector.connect(\n",
    "# host=\"localhost\",\n",
    "# user=“root\",\n",
    "# password=\"\"\n",
    "# )\n",
    "# db = database.cursor()\n",
    "\n",
    "# db.execute(\"CREATE DATABASE pythons\")\n",
    "\n",
    "# The MySQLCursor class instantiates objects that can execute operations such as SQL statements.\n",
    "# Cursor objects interact with the MySQL server using a MySQLConnection object.\n",
    "\n",
    "# To create a cursor, use the cursor() method of a connection object.\n",
    "\n",
    "\n",
    "#                                         Creating a table\n",
    "\n",
    "# import mysql.connector\n",
    "# #importing database\n",
    "# database = mysql.connector.connect(\n",
    "# host=\"localhost\",\n",
    "# user=“root\",\n",
    "# password=“”,\n",
    "\n",
    "# database = “pythons”\n",
    "# )\n",
    "# db = database.cursor()\n",
    "# db.execute(“CREATE TABLE subject(id INT, name\n",
    "# VARCHAR(255))”)\n",
    "\n",
    "\n",
    "#                                 Select in MySql\n",
    "\n",
    "# db.execute(\"SELECT * FROM profile”)\n",
    "# result =db.fetchall()\n",
    "# for x in result:\n",
    "# print(x)\n",
    "           \n",
    "           \n",
    "\n",
    "#                                 Insert in MySql\n",
    "           \n",
    "\n",
    "# import mysql.connector\n",
    "\n",
    "# mydb = mysql.connector.connect(\n",
    "\n",
    "# host=\"localhost\",\n",
    "\n",
    "# user=\"root\",\n",
    "\n",
    "# passwd=\"\",\n",
    "\n",
    "# database=\"python\"\n",
    "\n",
    "# )\n",
    "\n",
    "# mycursor = mydb.cursor()\n",
    "\n",
    "# sql = \"INSERT INTO profile (name, address) VALUES(‘Ram’,’kathmandu’)\"\n",
    "\n",
    "# mycursor.execute(sql)\n",
    "\n",
    "# mydb.commit()\n",
    "\n",
    "# print(mycursor.rowcount, \"record inserted.\")\n",
    "           \n",
    "           \n",
    "           \n",
    "           \n",
    "#                                  Where in MySql\n",
    "           \n",
    "\n",
    "# sql = \"SELECT * FROM profile WHERE address =‘Nepal'\"\n",
    "# database.execute(sql)\n",
    "\n",
    "# result = database.fetchall()\n",
    "# for x in result:\n",
    "# print(x)\n",
    "\n",
    "\n",
    "\n",
    "#                                 Delete in MySql\n",
    "\n",
    "# import mysql.connector\n",
    "# database = mysql.connector.connect(\n",
    "# host=\"localhost\",\n",
    "# user=“root\",\n",
    "# passwd=\"\",\n",
    "# database=“python\"\n",
    "# )\n",
    "# db = database.cursor()\n",
    "# sql = \"DELETE FROM profile WHERE address = ‘Nepal‘ \"\n",
    "# db.execute(sql)\n",
    "# database.commit()\n",
    "# print(db.rowcount, \"record(s) deleted\")\n",
    "           \n",
    "           \n",
    "           \n",
    "           \n",
    "#                            Update in MySql\n",
    "\n",
    "# import mysql.connector\n",
    "\n",
    "# db = mysql.connector.connect(\n",
    "\n",
    "# host=\"localhost\",\n",
    "\n",
    "# user=\"root\",\n",
    "\n",
    "# passwd=\"\",\n",
    "\n",
    "# database=\"python\"\n",
    "\n",
    "# )\n",
    "\n",
    "# mycursor = db.cursor()\n",
    "\n",
    "# sql = \"UPDATE profile SET address = 'Kathmandu' WHERE address = 'Nepal'\"\n",
    "\n",
    "# mycursor.execute(sql)\n",
    "\n",
    "# db.commit()\n",
    "\n",
    "# print(mycursor.rowcount, \"record(s) affected\")\n",
    "           \n",
    "           \n",
    "           "
   ]
  },
  {
   "cell_type": "code",
   "execution_count": null,
   "id": "54fe2062",
   "metadata": {},
   "outputs": [],
   "source": []
  },
  {
   "cell_type": "code",
   "execution_count": null,
   "id": "37200b5a",
   "metadata": {},
   "outputs": [],
   "source": []
  },
  {
   "cell_type": "code",
   "execution_count": null,
   "id": "75987012",
   "metadata": {},
   "outputs": [],
   "source": []
  }
 ],
 "metadata": {
  "kernelspec": {
   "display_name": "Python 3 (ipykernel)",
   "language": "python",
   "name": "python3"
  },
  "language_info": {
   "codemirror_mode": {
    "name": "ipython",
    "version": 3
   },
   "file_extension": ".py",
   "mimetype": "text/x-python",
   "name": "python",
   "nbconvert_exporter": "python",
   "pygments_lexer": "ipython3",
   "version": "3.9.13"
  }
 },
 "nbformat": 4,
 "nbformat_minor": 5
}
