{
 "cells": [
  {
   "cell_type": "code",
   "execution_count": null,
   "id": "7c0e8e7b",
   "metadata": {},
   "outputs": [],
   "source": [
    "#Day 4\n",
    "\n",
    "#Functions\n",
    "#pre defined functiond\n",
    "#user defined function"
   ]
  },
  {
   "cell_type": "code",
   "execution_count": null,
   "id": "9f5fc7fc",
   "metadata": {},
   "outputs": [],
   "source": []
  },
  {
   "cell_type": "code",
   "execution_count": null,
   "id": "efd3e8d5",
   "metadata": {},
   "outputs": [],
   "source": [
    "def hello():\n",
    "    print(\"Hello World\")\n",
    "hello()\n"
   ]
  },
  {
   "cell_type": "code",
   "execution_count": 1,
   "id": "54a8feff",
   "metadata": {},
   "outputs": [],
   "source": [
    "def cal():\n",
    "    l = int(input(\"Enter l = \"))#local variable\n",
    "    b = int(input(\"Enter b = \"))#local variable\n",
    "    a = l*b\n",
    "    print (a)\n",
    "    \n",
    "cal()"
   ]
  },
  {
   "cell_type": "code",
   "execution_count": null,
   "id": "d4907f3a",
   "metadata": {},
   "outputs": [],
   "source": [
    "def cal():\n",
    "    a = l*b\n",
    "    print (a)\n",
    "    \n",
    "l = int(input(\"Enter l = \")) #globle variable\n",
    "b = int(input(\"Enter b = \")) #globle variable\n",
    "   \n",
    "    \n",
    "cal()"
   ]
  },
  {
   "cell_type": "code",
   "execution_count": null,
   "id": "0f7f7aff",
   "metadata": {},
   "outputs": [],
   "source": [
    "# argument return type\n",
    "#function without argument  and no return type\n",
    "#function with argument  and no return type\n",
    "#function without argument  and return type\n",
    "#function with argument  and return type"
   ]
  },
  {
   "cell_type": "code",
   "execution_count": null,
   "id": "3b300a7c",
   "metadata": {},
   "outputs": [],
   "source": [
    "#function with argument  and no return typ\n",
    "def cal(l,b): #parameter\n",
    "    a = l*b\n",
    "    print (a)\n",
    "    \n",
    "l = int(input(\"Enter l = \")) #globle variable\n",
    "b = int(input(\"Enter b = \")) #globle variable\n",
    "   \n",
    "    \n",
    "cal(l,b) #argument"
   ]
  },
  {
   "cell_type": "code",
   "execution_count": null,
   "id": "320ef8d4",
   "metadata": {},
   "outputs": [],
   "source": [
    "#function with argument  and no return typ\n",
    "def cal(x,y): #parameter\n",
    "    a = x*y\n",
    "    print (a)\n",
    "    \n",
    "l = int(input(\"Enter l = \")) #globle variable\n",
    "b = int(input(\"Enter b = \")) #globle variable\n",
    "   \n",
    "    \n",
    "cal(l,b) #argument"
   ]
  },
  {
   "cell_type": "code",
   "execution_count": 1,
   "id": "4bfba080",
   "metadata": {},
   "outputs": [
    {
     "name": "stdout",
     "output_type": "stream",
     "text": [
      "Enter l = 7\n",
      "Enter b = 5\n",
      "Enter h = 4\n",
      "35\n",
      "140\n"
     ]
    }
   ],
   "source": [
    "#function with argument  and no return typ\n",
    "def area(x,y): #parameter\n",
    "    a = x*y\n",
    "    print (a)\n",
    "def volume(x,y,z):\n",
    "    v=x*y*z\n",
    "    print(v)\n",
    "    \n",
    "    \n",
    "l = int(input(\"Enter l = \")) #globle variable\n",
    "b = int(input(\"Enter b = \")) #globle variable\n",
    "h = int(input(\"Enter h = \")) #globle variable\n",
    "\n",
    "   \n",
    "    \n",
    "area(l,b) #argument\n",
    "volume(l,b,h)"
   ]
  },
  {
   "cell_type": "code",
   "execution_count": null,
   "id": "5aa5194e",
   "metadata": {},
   "outputs": [],
   "source": [
    "def language(lan = \"Python\"):\n",
    "    print(lan)\n",
    "language(\"C\")\n",
    "language(\"C++\")\n",
    "language(\"Python\")\n",
    "language()"
   ]
  },
  {
   "cell_type": "code",
   "execution_count": 3,
   "id": "615bd46b",
   "metadata": {},
   "outputs": [
    {
     "name": "stdout",
     "output_type": "stream",
     "text": [
      "Ram 48\n",
      "shyam 67\n"
     ]
    }
   ],
   "source": [
    "#multiple argument\n",
    "def info(name,age):\n",
    "    print(name,age)\n",
    "info(\"Ram\",48)\n",
    "info(\"shyam\",67)\n"
   ]
  },
  {
   "cell_type": "code",
   "execution_count": 3,
   "id": "14573171",
   "metadata": {},
   "outputs": [
    {
     "data": {
      "text/plain": [
       "'Hello'"
      ]
     },
     "execution_count": 3,
     "metadata": {},
     "output_type": "execute_result"
    }
   ],
   "source": [
    "#return type function\n",
    "def hello():\n",
    "    return \"Hello\"\n",
    "hello()"
   ]
  },
  {
   "cell_type": "code",
   "execution_count": 4,
   "id": "51a87208",
   "metadata": {},
   "outputs": [
    {
     "name": "stdout",
     "output_type": "stream",
     "text": [
      "Hello\n"
     ]
    }
   ],
   "source": [
    "def hello():\n",
    "    return \"Hello\"\n",
    "x = hello()\n",
    "print(x)"
   ]
  },
  {
   "cell_type": "code",
   "execution_count": null,
   "id": "2f6b04d6",
   "metadata": {},
   "outputs": [
    {
     "name": "stdout",
     "output_type": "stream",
     "text": [
      "Enter l = 6\n"
     ]
    }
   ],
   "source": [
    "#function with argument and return type\n",
    "def area(x,y):\n",
    "    a = x*y\n",
    "    \n",
    "l = int(input(\"Enter l = \"))\n",
    "b = int(input(\"Enter b = \"))\n",
    "h = int(input(\"Enter h = \"))\n",
    "ar = area(l,b)\n",
    "v = ar*h\n",
    "print(\"Volume= \",v)"
   ]
  },
  {
   "cell_type": "code",
   "execution_count": 4,
   "id": "24ffcbe7",
   "metadata": {},
   "outputs": [
    {
     "name": "stdout",
     "output_type": "stream",
     "text": [
      "Enter l = 3\n",
      "Enter b = 3\n",
      "Enter h = 3\n",
      "Volume=  27\n"
     ]
    }
   ],
   "source": [
    "def area(x,y):\n",
    "    a = x*y\n",
    "    return a\n",
    "def volume(x,y,z):\n",
    "    ar = area(l,b)\n",
    "    v = ar*h\n",
    "    return v\n",
    "\n",
    "l = int(input(\"Enter l = \"))\n",
    "b = int(input(\"Enter b = \"))\n",
    "h = int(input(\"Enter h = \"))\n",
    "\n",
    "vo = volume(l,b,h)\n",
    "print(\"Volume= \",vo)"
   ]
  },
  {
   "cell_type": "code",
   "execution_count": 1,
   "id": "932ee857",
   "metadata": {},
   "outputs": [
    {
     "name": "stdout",
     "output_type": "stream",
     "text": [
      "Enter l = 5\n",
      "Enter b = 6\n",
      "Enter h = 7\n",
      "(30, 210)\n"
     ]
    }
   ],
   "source": [
    "def cal(x,y,z):\n",
    "    a = x*y\n",
    "    v = a*z\n",
    "   \n",
    "    return a,v\n",
    "l = int(input(\"Enter l = \"))\n",
    "b = int(input(\"Enter b = \"))\n",
    "h = int(input(\"Enter h = \"))\n",
    "\n",
    "av = cal(l,b,h)\n",
    "print(av)"
   ]
  },
  {
   "cell_type": "code",
   "execution_count": null,
   "id": "87411e7e",
   "metadata": {},
   "outputs": [],
   "source": [
    "#recursive function\n",
    "def hello():\n",
    "    print(\"Hello\")\n",
    "    hello()\n",
    "hello()"
   ]
  },
  {
   "cell_type": "code",
   "execution_count": null,
   "id": "ea3bb53f",
   "metadata": {},
   "outputs": [
    {
     "name": "stdout",
     "output_type": "stream",
     "text": [
      "Enter p = 45\n",
      "Enter t = 3\n",
      "Enter r = 3\n",
      "4.05\n",
      "Press Enter for more cal\n"
     ]
    }
   ],
   "source": [
    "def cal():\n",
    "    p = int(input(\"Enter p = \"))\n",
    "    t = float(input(\"Enter t = \"))\n",
    "    r = float(input(\"Enter r = \"))\n",
    "    i = p*t*r/100\n",
    "    print(i)\n",
    "    x = input(\"Press Enter for more cal\")\n",
    "    if x == \"\":\n",
    "        cal()\n",
    "              \n",
    "cal()"
   ]
  },
  {
   "cell_type": "code",
   "execution_count": 1,
   "id": "80c928ce",
   "metadata": {},
   "outputs": [
    {
     "name": "stdout",
     "output_type": "stream",
     "text": [
      "banana\n",
      "apple\n",
      "cherry\n"
     ]
    }
   ],
   "source": [
    "thisset = {\"apple\", \"banana\", \"cherry\"}\n",
    "\n",
    "for x in thisset:\n",
    "  print(x)\n"
   ]
  },
  {
   "cell_type": "code",
   "execution_count": 8,
   "id": "b2bb4608",
   "metadata": {},
   "outputs": [
    {
     "name": "stdout",
     "output_type": "stream",
     "text": [
      "Enter the first number: 1\n",
      "Enter the second number: 10\n",
      "2\n",
      "3\n",
      "5\n",
      "7\n"
     ]
    }
   ],
   "source": [
    "def primn(num):\n",
    "    f=0\n",
    "    if num==1 or num==0:\n",
    "        f=1\n",
    "    for i in range(2,num):\n",
    "        if num%i==0:\n",
    "            f=1\n",
    "    if f==1:\n",
    "        return 'n'\n",
    "    else:\n",
    "        return 'y'\n",
    "num1=int(input(\"Enter the first number: \"))\n",
    "num2=int(input(\"Enter the second number: \"))\n",
    "if num1>num2:\n",
    "    for i in range(num2,num1+1):\n",
    "        r=primn(i)\n",
    "        if r=='y':\n",
    "            print(i)\n",
    "else:\n",
    "    for i in range(num1,num2+1):\n",
    "        r=primn(i)\n",
    "        if r=='y':\n",
    "            print(i)\n",
    "        \\\n",
    "        ]\n",
    "        \n",
    "        \n",
    "        \n",
    "        \n",
    "        \n",
    "        \n",
    "        \n",
    "        \n",
    "        \n",
    "        \n",
    "        \n",
    "        \n",
    "        \n",
    "         "
   ]
  },
  {
   "cell_type": "code",
   "execution_count": 4,
   "id": "cb3948c8",
   "metadata": {},
   "outputs": [
    {
     "ename": "NameError",
     "evalue": "name 'p' is not defined",
     "output_type": "error",
     "traceback": [
      "\u001b[1;31m---------------------------------------------------------------------------\u001b[0m",
      "\u001b[1;31mNameError\u001b[0m                                 Traceback (most recent call last)",
      "\u001b[1;32m~\\AppData\\Local\\Temp\\ipykernel_4556\\3498461203.py\u001b[0m in \u001b[0;36m<module>\u001b[1;34m\u001b[0m\n\u001b[0;32m     13\u001b[0m     \u001b[1;32mreturn\u001b[0m \u001b[0mi\u001b[0m\u001b[1;33m\u001b[0m\u001b[1;33m\u001b[0m\u001b[0m\n\u001b[0;32m     14\u001b[0m \u001b[1;33m\u001b[0m\u001b[0m\n\u001b[1;32m---> 15\u001b[1;33m \u001b[0msi\u001b[0m\u001b[1;33m(\u001b[0m\u001b[0mp\u001b[0m\u001b[1;33m,\u001b[0m\u001b[0mt\u001b[0m\u001b[1;33m,\u001b[0m\u001b[0mr\u001b[0m\u001b[1;33m)\u001b[0m\u001b[1;33m\u001b[0m\u001b[1;33m\u001b[0m\u001b[0m\n\u001b[0m\u001b[0;32m     16\u001b[0m \u001b[1;33m\u001b[0m\u001b[0m\n\u001b[0;32m     17\u001b[0m \u001b[1;33m\u001b[0m\u001b[0m\n",
      "\u001b[1;31mNameError\u001b[0m: name 'p' is not defined"
     ]
    }
   ],
   "source": [
    "def si(p,t,r):\n",
    "    \n",
    "    \n",
    "    p=int(input(\"Enter the principle: \"))\n",
    "    t=int(input(\"Enter the time year: \"))\n",
    "    r=int(input(\"Enter the rate: \"))\n",
    "    i=p*t*r/100\n",
    "    \n",
    "    print(\"simple interest:\",i)\n",
    "    x=input(\"Press enter for more calculation\")\n",
    "    if x==\"\":\n",
    "        si(x,y,z)\n",
    "    return i\n",
    "    \n",
    "si(p,t,r) \n",
    "\n",
    "\n",
    "    "
   ]
  },
  {
   "cell_type": "code",
   "execution_count": 6,
   "id": "29e3d7a7",
   "metadata": {},
   "outputs": [
    {
     "name": "stdout",
     "output_type": "stream",
     "text": [
      "Enter a number: 10\n",
      "2\n",
      "3\n",
      "5\n",
      "7\n"
     ]
    }
   ],
   "source": [
    "def primn(num):\n",
    "    f=0\n",
    "    if num==0 or num==1:\n",
    "        f=1\n",
    "    for i in range(2,num):\n",
    "            if num%i==0:\n",
    "                f=1\n",
    "    if f==1:\n",
    "            return 'num'\n",
    "    else:\n",
    "            return 'y'\n",
    "num=int(input(\"Enter a number: \"))\n",
    "for i in range(num):\n",
    "    r=primn(i)\n",
    "    if r=='y':\n",
    "        print(i)"
   ]
  },
  {
   "cell_type": "code",
   "execution_count": null,
   "id": "d40656dc",
   "metadata": {},
   "outputs": [],
   "source": [
    "def list():\n",
    "    \n",
    "    thislist=[1,2,3,4]\n"
   ]
  },
  {
   "cell_type": "code",
   "execution_count": 8,
   "id": "71af4e29",
   "metadata": {},
   "outputs": [
    {
     "name": "stdout",
     "output_type": "stream",
     "text": [
      "The given list is: [1, 2, 3, 4, 5, 6, 7, 8, 9]\n",
      "Sum of all the elements in the list is: 45\n"
     ]
    }
   ],
   "source": [
    " myList = [1, 2, 3, 4, 5, 6, 7, 8, 9]\n",
    "\n",
    "\n",
    "print(\"The given list is:\",myList) \n",
    "\n",
    "list_length = len(myList) \n",
    "sumOfElements = 0 \n",
    "count = 0 \n",
    "while count < list_length: \n",
    "    sumOfElements = sumOfElements + myList[count] \n",
    "    count = count + 1 \n",
    "print(\"Sum of all the elements in the list is:\", sumOfElements)"
   ]
  },
  {
   "cell_type": "code",
   "execution_count": 8,
   "id": "60bda583",
   "metadata": {},
   "outputs": [
    {
     "name": "stdout",
     "output_type": "stream",
     "text": [
      "6\n",
      "The sum of the given list is 29\n"
     ]
    }
   ],
   "source": [
    "mylist=[2,5,6,4,5,7]\n",
    "length=len(mylist)\n",
    "print(length)\n",
    "sum=0\n",
    "count=0\n",
    "while count<length:\n",
    "    sum=sum+mylist[count]\n",
    "    count = count + 1\n",
    "print(\"The sum of the given list is\",sum)\n"
   ]
  },
  {
   "cell_type": "code",
   "execution_count": 10,
   "id": "7ae44463",
   "metadata": {},
   "outputs": [
    {
     "name": "stdout",
     "output_type": "stream",
     "text": [
      "20\n"
     ]
    }
   ],
   "source": [
    "def multiply(numbers):  \n",
    "    total = 0\n",
    "    for x in numbers:\n",
    "        total += x  \n",
    "    return total  \n",
    "print(multiply((8, 2, 3, -1, 7)))\n"
   ]
  },
  {
   "cell_type": "code",
   "execution_count": 4,
   "id": "9013e424",
   "metadata": {},
   "outputs": [
    {
     "name": "stdout",
     "output_type": "stream",
     "text": [
      "Enter a number: 5\n",
      "True\n"
     ]
    }
   ],
   "source": [
    "n=int(input(\"Enter a number: \"))\n",
    "def test_prime(n):\n",
    "    \n",
    "    if (n==1):\n",
    "        return False\n",
    "    elif (n==2):\n",
    "        return True;\n",
    "    else:\n",
    "        for x in range(2,n):\n",
    "            if(n % x==0):\n",
    "                return False\n",
    "        return True             \n",
    "print(test_prime(n))\n"
   ]
  },
  {
   "cell_type": "code",
   "execution_count": 9,
   "id": "d1f4274b",
   "metadata": {},
   "outputs": [
    {
     "name": "stdout",
     "output_type": "stream",
     "text": [
      "Enter a number: 10\n",
      "Enter a number: 2\n",
      "2\n",
      "3\n",
      "5\n",
      "7\n"
     ]
    }
   ],
   "source": [
    "def prime(num):\n",
    "    f=0\n",
    "    if num==0 or num==1:\n",
    "        f=1\n",
    "    for i in range(2,num):\n",
    "            if num%i==0:\n",
    "                f=1\n",
    "    if f==1:\n",
    "            return 'num'\n",
    "    else:\n",
    "            return 'y'\n",
    "num1=int(input(\"Enter a number: \"))\n",
    "num2=int(input(\"Enter a number: \"))\n",
    "if num1<num2:\n",
    "    for i in range(num1,num2):\n",
    "        r=prime(i)\n",
    "        if r=='y':\n",
    "            print(i)\n",
    "else:\n",
    "    for i in range(num2,num1):\n",
    "        r=prime(i)\n",
    "        if r=='y':\n",
    "            print(i)"
   ]
  },
  {
   "cell_type": "code",
   "execution_count": 11,
   "id": "95409ca0",
   "metadata": {},
   "outputs": [
    {
     "name": "stdout",
     "output_type": "stream",
     "text": [
      "Enter the number: 3\n",
      "Enter a number in list: 1\n",
      "Enter a number in list: 2\n",
      "Enter a number in list: 3\n",
      "[1, 2, 3]\n"
     ]
    }
   ],
   "source": [
    "n=int(input(\"Enter the number: \"))\n",
    "a=[]\n",
    "for i in range(n):\n",
    "    x=int(input(\"Enter a number in list: \"))\n",
    "    y=a.append(x)\n",
    "print(y)\n"
   ]
  },
  {
   "cell_type": "code",
   "execution_count": 1,
   "id": "ba5d3a5a",
   "metadata": {},
   "outputs": [],
   "source": [
    "f= open('manoj.txt','x')\n",
    "f.close()"
   ]
  },
  {
   "cell_type": "code",
   "execution_count": 3,
   "id": "5e8bfcab",
   "metadata": {},
   "outputs": [
    {
     "name": "stdout",
     "output_type": "stream",
     "text": [
      "Hi\n"
     ]
    }
   ],
   "source": [
    "f=open('manoj.txt','r')\n",
    "x=f.read(2)\n",
    "print(x)\n",
    "f.close()"
   ]
  },
  {
   "cell_type": "code",
   "execution_count": 4,
   "id": "837693ac",
   "metadata": {},
   "outputs": [
    {
     "name": "stdout",
     "output_type": "stream",
     "text": [
      "Hi, This is my first programming files made during the practice session.\n",
      "\n",
      "And this is the second line of the files.\n",
      "\n"
     ]
    }
   ],
   "source": [
    "def file_read_from_head(fname, nlines):\n",
    "        from itertools import islice\n",
    "        with open(fname) as f:\n",
    "                for line in islice(f, nlines):\n",
    "                        print(line)\n",
    "file_read_from_head('manoj.txt',2)"
   ]
  },
  {
   "cell_type": "code",
   "execution_count": 13,
   "id": "93ac86fe",
   "metadata": {},
   "outputs": [
    {
     "name": "stdout",
     "output_type": "stream",
     "text": [
      "\n",
      "This is the additional text provided by the user\n",
      "\n"
     ]
    }
   ],
   "source": [
    "f= open('manoj.txt','w')\n",
    "f.write('This is the additional text provided by the user\\n')\n",
    "\n",
    "f.close()\n",
    "f=open('manoj.txt','r')\n",
    "y=f.read()\n",
    "print(y)\n",
    "f.close()\n"
   ]
  },
  {
   "cell_type": "code",
   "execution_count": 14,
   "id": "75b0a397",
   "metadata": {},
   "outputs": [
    {
     "name": "stdout",
     "output_type": "stream",
     "text": [
      "\n",
      "This is the additional text provided by the user\n",
      "Python Exercises\n",
      "Java Exercises\n"
     ]
    }
   ],
   "source": [
    "def file_read(fname):\n",
    "        from itertools import islice\n",
    "        with open(fname, \"a\") as myfile:\n",
    "                myfile.write(\"Python Exercises\\n\")\n",
    "                myfile.write(\"Java Exercises\")\n",
    "        txt = open(fname)\n",
    "        print(txt.read())\n",
    "file_read('manoj.txt')"
   ]
  },
  {
   "cell_type": "code",
   "execution_count": 18,
   "id": "3ec22e90",
   "metadata": {},
   "outputs": [
    {
     "name": "stdout",
     "output_type": "stream",
     "text": [
      "\n",
      "This is the additional text provided by the user\n",
      "Python Exercises\n",
      "Java ExercisesAgain edited some text in the file\n",
      "Again edited some text in the file\n"
     ]
    }
   ],
   "source": [
    "def fread(fname):\n",
    "    from itertools import islice\n",
    "    with open(fname,\"a\") as appendfile:\n",
    "        appendfile.write(\"\\nAgain edited some text in the file\")\n",
    "        txt=open(fname)#txt is compulsory for text file\n",
    "        print(txt.read())\n",
    "fread('manoj.txt')"
   ]
  },
  {
   "cell_type": "code",
   "execution_count": 19,
   "id": "3d4c7200",
   "metadata": {},
   "outputs": [
    {
     "name": "stdout",
     "output_type": "stream",
     "text": [
      "['\\n', 'This is the additional text provided by the user\\n', 'Python Exercises\\n', 'Java ExercisesAgain edited some text in the file\\n', 'Again edited some text in the file\\n', 'Again edited some text in the file']\n"
     ]
    }
   ],
   "source": [
    "def file_read(fname):\n",
    "        with open(fname) as f:\n",
    "                #Content_list is the list that contains the read lines.     \n",
    "                content_list = f.readlines()\n",
    "                print(content_list)\n",
    "\n",
    "file_read('manoj.txt')"
   ]
  },
  {
   "cell_type": "code",
   "execution_count": 20,
   "id": "4c69d3fb",
   "metadata": {},
   "outputs": [],
   "source": [
    "b=open('list_data.csv','x')\n",
    "b.close()"
   ]
  },
  {
   "cell_type": "code",
   "execution_count": 21,
   "id": "8f32b00b",
   "metadata": {},
   "outputs": [
    {
     "name": "stdout",
     "output_type": "stream",
     "text": [
      "['\\n', 'This is the additional text provided by the user\\n', 'Python Exercises\\n', 'Java ExercisesAgain edited some text in the file\\n', 'Again edited some text in the file\\n', 'Again edited some text in the file']\n"
     ]
    }
   ],
   "source": [
    "def file_read(fname):\n",
    "        content_array = []\n",
    "        with open(fname) as f:\n",
    "                #Content_list is the list that contains the read lines.     \n",
    "                for line in f:\n",
    "                        content_array.append(line)\n",
    "                print(content_array)\n",
    "\n",
    "file_read('manoj.txt')"
   ]
  },
  {
   "cell_type": "code",
   "execution_count": 29,
   "id": "02341841",
   "metadata": {},
   "outputs": [
    {
     "name": "stdout",
     "output_type": "stream",
     "text": [
      "I/O error\n"
     ]
    }
   ],
   "source": [
    "import csv\n",
    "\n",
    "csv_columns = ['Name', 'Age', 'Address']\n",
    "dict = [{'Name':'Aayush','Age':23,'Address':'Katmandu'},\n",
    "        {'Name':'Shyam','Age':33,'Address':'Patan'} ]\n",
    "try:\n",
    "    with open(\"data.csv\", 'w') as csvfile:\n",
    "        writer = csv.DictWriter(csvfile, fieldnames=csv_columns)\n",
    "        writer.writeheader()\n",
    "        for data in dict:\n",
    "            writer.writerow(data)\n",
    "\n",
    "except IOError:\n",
    "\n",
    "    print(\"I/O error\")\n",
    "        "
   ]
  },
  {
   "cell_type": "code",
   "execution_count": 32,
   "id": "002ebe59",
   "metadata": {},
   "outputs": [],
   "source": [
    "import pandas as pd\n",
    "\n",
    "df1 = pd.DataFrame({'Names': ['Andreas', 'George', 'Steve',\n",
    "\n",
    "'Sarah', 'Joanna', 'Hanna'],\n",
    "\n",
    "'Age':[21, 22, 20, 19, 18, 23]})\n",
    "\n",
    "df2 = pd.DataFrame({'Names': ['Pete', 'Jordan', 'Gustaf',\n",
    "\n",
    "'Sophie', 'Sally', 'Simone'],\n",
    "\n",
    "'Age':[22, 21, 19, 19, 29, 21]})\n",
    "\n",
    "df3 = pd.DataFrame({'Names': ['Ulrich', 'Donald', 'Jon',\n",
    "\n",
    "'Jessica', 'Elisabeth', 'Diana'],\n",
    "\n",
    "'Age':[21, 21, 20, 19, 19, 22]})\n",
    "\n",
    "df = pd.concat([df1, df2, df3], keys =['Group1', 'Group2', 'Group3'],\n",
    "\n",
    "names=['Group', 'Row Num']).reset_index()\n",
    "\n",
    "df.to_csv('boooks.csv', index=False)"
   ]
  }
 ],
 "metadata": {
  "kernelspec": {
   "display_name": "Python 3 (ipykernel)",
   "language": "python",
   "name": "python3"
  },
  "language_info": {
   "codemirror_mode": {
    "name": "ipython",
    "version": 3
   },
   "file_extension": ".py",
   "mimetype": "text/x-python",
   "name": "python",
   "nbconvert_exporter": "python",
   "pygments_lexer": "ipython3",
   "version": "3.9.13"
  }
 },
 "nbformat": 4,
 "nbformat_minor": 5
}
