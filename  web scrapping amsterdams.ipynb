{
 "cells": [
  {
   "cell_type": "code",
   "execution_count": 5,
   "id": "7e0f5b68",
   "metadata": {},
   "outputs": [
    {
     "name": "stderr",
     "output_type": "stream",
     "text": [
      "C:\\ProgramData\\Anaconda3\\lib\\site-packages\\bs4\\__init__.py:404: MarkupResemblesLocatorWarning: The input looks more like a URL than markup. You may want to use an HTTP client like requests to get the document behind the URL, and feed that document to Beautiful Soup.\n",
      "  warnings.warn(\n"
     ]
    },
    {
     "name": "stdout",
     "output_type": "stream",
     "text": [
      "<Response [200]>\n"
     ]
    }
   ],
   "source": [
    "from bs4 import BeautifulSoup\n",
    "import requests\n",
    "\n",
    "url = BeautifulSoup(\"https://www.pararius.com/apartments/amsterdam\",'html.parser')\n",
    "page = requests.get(url)\n",
    "print(page)\n",
    "\n"
   ]
  },
  {
   "cell_type": "code",
   "execution_count": 6,
   "id": "efa0010b",
   "metadata": {},
   "outputs": [
    {
     "data": {
      "text/plain": [
       "<!DOCTYPE html>\n",
       "<html>\n",
       "<head>\n",
       "<script defer=\"\" src=\"/cgi-bin/fl/static/fl.min.js?393cda3b\"></script>\n",
       "<style>\n",
       "\t@font-face {\n",
       "\t\tfont-family: 'Noto Serif';\n",
       "\t\tfont-style: normal;\n",
       "\t\tfont-weight: 400;\n",
       "\t\tsrc: url('https://static.fairlane.cloud/fonts/noto-serif-v21-latin-regular.eot'); /* IE9 Compat Modes */\n",
       "\t\tsrc: local(''),\n",
       "\t\t\turl('https://static.fairlane.cloud/fonts/noto-serif-v21-latin-regular.eot?#iefix') format('embedded-opentype'), /* IE6-IE8 */\n",
       "\t\t\turl('https://static.fairlane.cloud/fonts/noto-serif-v21-latin-regular.woff2') format('woff2'), /* Super Modern Browsers */\n",
       "\t\t\turl('https://static.fairlane.cloud/fonts/noto-serif-v21-latin-regular.woff') format('woff'), /* Modern Browsers */\n",
       "\t\t\turl('https://static.fairlane.cloud/fonts/noto-serif-v21-latin-regular.ttf') format('truetype'), /* Safari, Android, iOS */\n",
       "\t\t\turl('https://static.fairlane.cloud/fonts/noto-serif-v21-latin-regular.svg#NotoSerif') format('svg'); /* Legacy iOS */\n",
       "\t}\n",
       "\tbody{\n",
       "\t\tfont-family: 'Noto Serif', serif;\n",
       "\t\tbackground-color: #white;\n",
       "\t}\n",
       "\tnoscript {\n",
       "\t\tcolor: red;\n",
       "\t}\n",
       "\t.text-box{\n",
       "\t\tcolor: #black;\n",
       "\t\ttext-align: center;\n",
       "\t\ttext-decoration: none;\n",
       "\t\tdisplay: inline-block;\n",
       "\t\tfont-size: 12px;\n",
       "\t\tmargin: 4px 2px;\n",
       "\t\tcursor: pointer;\n",
       "\t\tdisplay: flex;\n",
       "\t\tflex-direction: column;\n",
       "\t\tjustify-content: center;\n",
       "\t\talign-items: center;\n",
       "\t}\n",
       "\n",
       "\t.container{\n",
       "\t\theight: 100%;\n",
       "\t\twidth: 40px;\n",
       "\t\tmargin: 20px auto;\n",
       "\t}\n",
       "\n",
       "\t.vc {\n",
       "\t\tposition: absolute;\n",
       "\t\ttop: 50%;\n",
       "\t\tleft: 50%;\n",
       "\t\t-moz-transform: translateX(-50%) translateY(-50%);\n",
       "\t\t-webkit-transform: translateX(-50%) translateY(-50%);\n",
       "\t\ttransform: translateX(-50%) translateY(-50%);}\n",
       "\t.box{\n",
       "\t\twidth: 15px;\n",
       "\t\theight: 15px;\n",
       "\t\tbackground-color: #123356;\n",
       "\t\tdisplay: inline-block;\n",
       "\t\tanimation: pulse 0.6s ease-in infinite alternate;\n",
       "\t}\n",
       "\t.box2, .box3{\n",
       "\t\tanimation-delay: 0.6s;\n",
       "\t}\n",
       "\n",
       "\t@Keyframes pulse{\n",
       "\t\t100%{\n",
       "\t\t\topacity: 0;\n",
       "\t\t}\n",
       "\t}\n",
       "\t@media only screen and (max-device-width: 480px) {\n",
       "\t.text-box{\n",
       "\t\tfont-size: 20px;\n",
       "\t}\n",
       "\tbutton {\n",
       "\t\tfont-size: 20px;\n",
       "\t}\n",
       "\t</style>\n",
       "<meta content=\"no-cache\" http-equiv=\"Cache-control\"/>\n",
       "<meta content=\"max-age=0\" http-equiv=\"cache-control\"/>\n",
       "<meta content=\"no-cache\" http-equiv=\"cache-control\"/>\n",
       "<meta content=\"-1\" http-equiv=\"expires\"/>\n",
       "<meta content=\"Tue, 01 Jan 1980 11:00:00 GMT\" http-equiv=\"expires\"/>\n",
       "<meta content=\"no-cache\" http-equiv=\"pragma\"/>\n",
       "</head>\n",
       "<body>\n",
       "<div class=\"vc\">\n",
       "<div class=\"text-box\">\n",
       "<img src=\"https://static.fairlane.cloud/FAIRLANE_LOGO_WOORD_DEF.png\" style=\"width:200px;\"/>\n",
       "<div class=\"container\">\n",
       "<div class=\"box box1\"></div>\n",
       "<div class=\"box box2\"></div>\n",
       "<div class=\"box box3\"></div>\n",
       "<div class=\"box box4\"></div>\n",
       "</div>\n",
       "<noscript>\n",
       "<h1> www.pararius.com requires JavaScript. Please enable JavaScript and refresh this page. </h1>\n",
       "</noscript>\n",
       "<h2>\n",
       "\t\t\tChecking your browser before accessing www.pararius.com.\n",
       "\t\t\t</h2>\n",
       "<h3>\n",
       "\t\t\t\tThis process is automatic. Your browser will redirect to your requested content shortly.\n",
       "\t\t\t\tPlease allow up to 5 seconds…\n",
       "\t\t\t</h3>\n",
       "</div>\n",
       "<noscript>\n",
       "<h1> This page requires JavaScript. Please enable JavaScript and refresh this page. </h1>\n",
       "</noscript>\n",
       "</div>\n",
       "</body>\n",
       "<script>\n",
       "\tif(!navigator.cookieEnabled) {\n",
       "\t\tdocument.getElementsByClassName(\"text-box\")[0].innerHTML += `<h3 style='color: red;'> Please enable cookies and refresh this page. </h3>`\n",
       "\t}\n",
       "\t</script>\n",
       "</html>"
      ]
     },
     "execution_count": 6,
     "metadata": {},
     "output_type": "execute_result"
    }
   ],
   "source": [
    "soup = BeautifulSoup(page.text,'lxml')\n",
    "soup"
   ]
  },
  {
   "cell_type": "code",
   "execution_count": 27,
   "id": "cc39756e",
   "metadata": {},
   "outputs": [],
   "source": [
    "lists= soup.find_all('section',class_='listing-search-item')\n",
    "import csv\n",
    "\n",
    "with open ('housing.csv','w',encoding='utf8',newline='') as f:\n",
    "    thewriter = csv.writer(f)\n",
    "    header = ['Title','Location','Price','Area']\n",
    "    thewriter.writerow(header)\n",
    "    for list in lists:\n",
    "        title = list.find('a',class_=\"listng-search-item__link--title\").text.replace(\"\\n\",\"\")\n",
    "        location = list.find('div',class_=\"listing-search-item__sub-title\").text.replace(\"\\n\",\"\")\n",
    "        price = list.find('div',class_=\"listing-search-item__price\").text.replace(\"\\n\",\"\")\n",
    "        area = list.find('li',class_=\"illustrated-features__item--surface-area\").text.replace(\"\\n\",\"\")\n",
    "        \n",
    "        info = [title,location,price,area]\n",
    "        thewriter.writerow(info)\n",
    "        "
   ]
  }
 ],
 "metadata": {
  "kernelspec": {
   "display_name": "Python 3 (ipykernel)",
   "language": "python",
   "name": "python3"
  },
  "language_info": {
   "codemirror_mode": {
    "name": "ipython",
    "version": 3
   },
   "file_extension": ".py",
   "mimetype": "text/x-python",
   "name": "python",
   "nbconvert_exporter": "python",
   "pygments_lexer": "ipython3",
   "version": "3.9.13"
  }
 },
 "nbformat": 4,
 "nbformat_minor": 5
}
