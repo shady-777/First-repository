{
 "cells": [
  {
   "cell_type": "code",
   "execution_count": null,
   "id": "cc4901af",
   "metadata": {},
   "outputs": [],
   "source": [
    "# b = open('<file name>','<mode>')\n",
    "# b.close()\n",
    "\n",
    "\n",
    "# with open('<file name>','<mode>') as f:\n",
    "#     <operationd>\n",
    "\n",
    "modes\n",
    "r->read\n",
    "x->create\n",
    "w->write\n",
    "a->append"
   ]
  },
  {
   "cell_type": "code",
   "execution_count": 3,
   "id": "2bb78dfa",
   "metadata": {},
   "outputs": [],
   "source": [
    "b = open('data.txt','x')\n",
    "b.close()"
   ]
  },
  {
   "cell_type": "code",
   "execution_count": 3,
   "id": "9d645fb2",
   "metadata": {},
   "outputs": [
    {
     "name": "stdout",
     "output_type": "stream",
     "text": [
      "The file is already here\n"
     ]
    }
   ],
   "source": [
    "try:\n",
    "    b = open('data.txt','x')\n",
    "    b.close()\n",
    "except:\n",
    "        print(\"The file is already here\")"
   ]
  },
  {
   "cell_type": "code",
   "execution_count": 5,
   "id": "bb7465ca",
   "metadata": {},
   "outputs": [
    {
     "name": "stdout",
     "output_type": "stream",
     "text": [
      "hello world\n",
      "\n",
      "<class 'str'>\n"
     ]
    }
   ],
   "source": [
    "file = open('data.txt','r')\n",
    "x=file.read()\n",
    "print(x)\n",
    "print(type(x))\n",
    "file.close()"
   ]
  },
  {
   "cell_type": "code",
   "execution_count": 7,
   "id": "7e2dbd46",
   "metadata": {},
   "outputs": [
    {
     "name": "stdout",
     "output_type": "stream",
     "text": [
      "Enter line no = 2\n",
      "drghyrj\n"
     ]
    }
   ],
   "source": [
    "file = open('data.txt','r')\n",
    "x=file.read()\n",
    "file.close()\n",
    "data=x.split('\\n')\n",
    "line_no =int(input(\"Enter line no = \"))\n",
    "print(data[line_no-1])"
   ]
  },
  {
   "cell_type": "code",
   "execution_count": null,
   "id": "0d201f39",
   "metadata": {},
   "outputs": [],
   "source": [
    "file = open('data.txt','r')\n",
    "x=file.readline()#to read first line of the files\n",
    "print(x)\n",
    "print(type(x))\n",
    "file.close()"
   ]
  },
  {
   "cell_type": "code",
   "execution_count": null,
   "id": "132216be",
   "metadata": {},
   "outputs": [],
   "source": [
    "file = open('data.txt','r')\n",
    "x=file.read(20)#to read first 20 characters of the files\n",
    "print(x)\n",
    "print(type(x))\n",
    "file.close()"
   ]
  },
  {
   "cell_type": "code",
   "execution_count": 8,
   "id": "d819d224",
   "metadata": {},
   "outputs": [],
   "source": [
    "file = open('data.txt','w')\n",
    "x=file.write('Hello World')\n",
    "file.close()"
   ]
  },
  {
   "cell_type": "code",
   "execution_count": 9,
   "id": "7b2cc181",
   "metadata": {},
   "outputs": [
    {
     "name": "stdout",
     "output_type": "stream",
     "text": [
      "Enter n = 1\n",
      "Enter name= fghg\n",
      "Enter price= 45\n",
      "Enter quantity= 5\n",
      "all total =  225\n",
      "fghg 45 5 225\n",
      "\n"
     ]
    }
   ],
   "source": [
    "s=0\n",
    "n = int(input(\"Enter n = \"))\n",
    "bill = str()\n",
    "\n",
    "for i in range (n):\n",
    "    \n",
    "    name=input(\"Enter name= \")\n",
    "    price=int(input(\"Enter price= \"))\n",
    "    \n",
    "    quantity=int(input(\"Enter quantity= \"))\n",
    "    total= price*quantity\n",
    "    \n",
    "    bill = bill +f\"{name} {price} {quantity} {total}\\n\"\n",
    "    \n",
    "    s =s+total\n",
    "print(\"all total = \",s)\n",
    "print(bill)\n",
    "file = open('bill.txt','w')\n",
    "file.write(bill)\n",
    "file.close()"
   ]
  },
  {
   "cell_type": "code",
   "execution_count": 19,
   "id": "2eb91e85",
   "metadata": {},
   "outputs": [
    {
     "data": {
      "text/plain": [
       "'C:\\\\Users\\\\USER\\\\Desktop\\\\Pythonprograms'"
      ]
     },
     "execution_count": 19,
     "metadata": {},
     "output_type": "execute_result"
    }
   ],
   "source": [
    "pwd#to find the path of the file"
   ]
  },
  {
   "cell_type": "code",
   "execution_count": 2,
   "id": "e25dc4db",
   "metadata": {},
   "outputs": [
    {
     "name": "stdout",
     "output_type": "stream",
     "text": [
      "Enter n = 1\n",
      "Enter name= hgdgh\n",
      "Enter price= 687\n",
      "Enter quantity= 7\n",
      "all total =  4809\n",
      "hgdgh,687,7,4809\n",
      "\n"
     ]
    }
   ],
   "source": [
    "s=0\n",
    "n = int(input(\"Enter n = \"))\n",
    "bill = str()\n",
    "\n",
    "for i in range (n):\n",
    "    \n",
    "    name=input(\"Enter name= \")\n",
    "    price=int(input(\"Enter price= \"))\n",
    "    \n",
    "    quantity=int(input(\"Enter quantity= \"))\n",
    "    total= price*quantity\n",
    "    \n",
    "    bill = bill +f\"{name},{price},{quantity},{total}\\n\"\n",
    "    \n",
    "    s =s+total\n",
    "print(\"all total = \",s)\n",
    "print(bill)\n",
    "file = open('bill.csv','w')#coma separated value and it opens in spreadsheet format\n",
    "file.write('Name,Price,quantity,total\\n')\n",
    "file.write(bill)\n",
    "file.close()"
   ]
  },
  {
   "cell_type": "code",
   "execution_count": null,
   "id": "392625f8",
   "metadata": {},
   "outputs": [],
   "source": [
    "# write a program to print the result of the student"
   ]
  },
  {
   "cell_type": "code",
   "execution_count": 5,
   "id": "c4d866c6",
   "metadata": {},
   "outputs": [
    {
     "name": "stdout",
     "output_type": "stream",
     "text": [
      "aalu 39 2 78\n",
      "pyaj 34 1 34\n",
      "\n"
     ]
    }
   ],
   "source": [
    "f=open(\"bill.txt\",\"r\")\n",
    "print(f.read())"
   ]
  },
  {
   "cell_type": "code",
   "execution_count": 8,
   "id": "226603a5",
   "metadata": {},
   "outputs": [
    {
     "name": "stdout",
     "output_type": "stream",
     "text": [
      "aalu 39 2 78\n",
      "\n",
      "pyaj 34 1 34\n",
      "\n"
     ]
    }
   ],
   "source": [
    "\n",
    "f=open(\"bill.txt\",\"r\")\n",
    "for x in f:\n",
    "    print(x)\n",
    "f.close()"
   ]
  },
  {
   "cell_type": "code",
   "execution_count": 10,
   "id": "965421b5",
   "metadata": {},
   "outputs": [
    {
     "name": "stdout",
     "output_type": "stream",
     "text": [
      "aalu 39 2 78\n",
      "pyaj 34 1 34\n",
      "Now you have add more data in your file\n"
     ]
    }
   ],
   "source": [
    "f =open(\"bill.txt\",\"a\")\n",
    "f.write(\"Now you have add more data in your file\")\n",
    "f.close()\n",
    "\n",
    "f=open(\"bill.txt\",\"r\")\n",
    "print(f.read())\n",
    "\n"
   ]
  },
  {
   "cell_type": "code",
   "execution_count": 12,
   "id": "fd7ca0e2",
   "metadata": {},
   "outputs": [],
   "source": [
    "import os\n",
    "os.remove(\"data.txt\")"
   ]
  },
  {
   "cell_type": "code",
   "execution_count": 1,
   "id": "acc28da1",
   "metadata": {},
   "outputs": [],
   "source": [
    "import os\n",
    "if os.path.exists(\"files.txt\"):\n",
    "  os.remove(\"files.txt\")\n",
    "else:\n",
    "  print(\"The file does not exist\")"
   ]
  }
 ],
 "metadata": {
  "kernelspec": {
   "display_name": "Python 3 (ipykernel)",
   "language": "python",
   "name": "python3"
  },
  "language_info": {
   "codemirror_mode": {
    "name": "ipython",
    "version": 3
   },
   "file_extension": ".py",
   "mimetype": "text/x-python",
   "name": "python",
   "nbconvert_exporter": "python",
   "pygments_lexer": "ipython3",
   "version": "3.9.13"
  }
 },
 "nbformat": 4,
 "nbformat_minor": 5
}
