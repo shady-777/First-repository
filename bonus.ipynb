{
 "cells": [
  {
   "cell_type": "code",
   "execution_count": null,
   "id": "6aa2ac2f",
   "metadata": {},
   "outputs": [],
   "source": [
    "# Comprehensions: List, Dictionary"
   ]
  },
  {
   "cell_type": "code",
   "execution_count": 1,
   "id": "da37b30c",
   "metadata": {},
   "outputs": [
    {
     "name": "stdout",
     "output_type": "stream",
     "text": [
      "[0, 1, 2, 3, 4]\n"
     ]
    }
   ],
   "source": [
    "# list\n",
    "a = [i for i in range(5)]\n",
    "print(a)"
   ]
  },
  {
   "cell_type": "code",
   "execution_count": 2,
   "id": "adb0e213",
   "metadata": {},
   "outputs": [
    {
     "name": "stdout",
     "output_type": "stream",
     "text": [
      "Enter value 45\n",
      "Enter value 66\n",
      "Enter value 45\n",
      "Enter value 34\n",
      "Enter value 45\n",
      "[45, 66, 45, 34, 45]\n"
     ]
    }
   ],
   "source": [
    "# list\n",
    "a = [int(input(\"Enter value \")) for i in range(5)]\n",
    "print(a)"
   ]
  },
  {
   "cell_type": "code",
   "execution_count": 3,
   "id": "b68b8030",
   "metadata": {},
   "outputs": [
    {
     "name": "stdout",
     "output_type": "stream",
     "text": [
      "Enter value 5\n",
      "Enter value 4\n",
      "Enter value 6\n",
      "Enter value 4\n",
      "Enter value 6\n",
      "[5, 4, 6, 4, 6]\n"
     ]
    }
   ],
   "source": [
    "# list\n",
    "a =list( int(input(\"Enter value \")) for i in range(5))\n",
    "print(a)"
   ]
  },
  {
   "cell_type": "code",
   "execution_count": 4,
   "id": "369abb5e",
   "metadata": {},
   "outputs": [
    {
     "name": "stdout",
     "output_type": "stream",
     "text": [
      "[34, 546, 678]\n"
     ]
    }
   ],
   "source": [
    "# list\n",
    "data=[34,546,345,567,678,455,653]\n",
    "a=list (i for i in data if i%2==0)\n",
    "print(a)"
   ]
  },
  {
   "cell_type": "code",
   "execution_count": 5,
   "id": "430db71f",
   "metadata": {},
   "outputs": [
    {
     "data": {
      "text/plain": [
       "['Balll', 'Apple', 'Cat', 'Dog', 'Fish']"
      ]
     },
     "execution_count": 5,
     "metadata": {},
     "output_type": "execute_result"
    }
   ],
   "source": [
    "data = ['Balll','Apple','Cat','Dog','Fish']\n",
    "a = list (i for i in data)\n",
    "a"
   ]
  },
  {
   "cell_type": "code",
   "execution_count": 8,
   "id": "29e5c529",
   "metadata": {},
   "outputs": [
    {
     "data": {
      "text/plain": [
       "['Balll', 'Apple', 'Fish']"
      ]
     },
     "execution_count": 8,
     "metadata": {},
     "output_type": "execute_result"
    }
   ],
   "source": [
    "data = [\"Balll\",\"Apple\",\"cat\",\"dog\",\"Fish\"]\n",
    "a = list (i for i in data if i[0].isupper())\n",
    "a"
   ]
  },
  {
   "cell_type": "code",
   "execution_count": 9,
   "id": "ea1676c2",
   "metadata": {},
   "outputs": [
    {
     "data": {
      "text/plain": [
       "{1: 1, 2: 4, 3: 9, 4: 16, 5: 25, 6: 36, 7: 49, 8: 64, 9: 81, 10: 100}"
      ]
     },
     "execution_count": 9,
     "metadata": {},
     "output_type": "execute_result"
    }
   ],
   "source": [
    "data = {i:i**2 for i in range(1,11)}\n",
    "data"
   ]
  },
  {
   "cell_type": "code",
   "execution_count": 11,
   "id": "df1b5230",
   "metadata": {},
   "outputs": [
    {
     "data": {
      "text/plain": [
       "{'Ball': 'ball', 'Apple': 'apple', 'Cat': 'cat', 'Dog': 'dog', 'Fish': 'fish'}"
      ]
     },
     "execution_count": 11,
     "metadata": {},
     "output_type": "execute_result"
    }
   ],
   "source": [
    "a = ['Ball', 'Apple', 'Cat', 'Dog', 'Fish']\n",
    "data = {i:i.lower() for i in a}\n",
    "data"
   ]
  },
  {
   "cell_type": "code",
   "execution_count": 12,
   "id": "b5fc70ac",
   "metadata": {},
   "outputs": [
    {
     "data": {
      "text/plain": [
       "['ball', 'apple', 'cat', 'dog', 'fish']"
      ]
     },
     "execution_count": 12,
     "metadata": {},
     "output_type": "execute_result"
    }
   ],
   "source": [
    "a = ['Ball', 'Apple', 'Cat', 'Dog', 'Fish']\n",
    "data = {i:i.lower() for i in a}\n",
    "list(data.values())"
   ]
  },
  {
   "cell_type": "code",
   "execution_count": 13,
   "id": "cc5f7867",
   "metadata": {},
   "outputs": [
    {
     "data": {
      "text/plain": [
       "datetime.datetime(2022, 12, 4, 16, 57, 42, 17504)"
      ]
     },
     "execution_count": 13,
     "metadata": {},
     "output_type": "execute_result"
    }
   ],
   "source": [
    "# Pyhton date and time\n",
    "import datetime\n",
    "\n",
    "x = datetime.datetime.now()\n",
    "\n",
    "# print(x.year)\n",
    "# print(x.strftime(\"%A\"))\n",
    "x"
   ]
  },
  {
   "cell_type": "code",
   "execution_count": 15,
   "id": "9c0916fd",
   "metadata": {},
   "outputs": [
    {
     "name": "stdout",
     "output_type": "stream",
     "text": [
      "Sun Dec  4 16:58:41 2022\n"
     ]
    }
   ],
   "source": [
    "import datetime\n",
    "\n",
    "x = datetime.datetime.now()\n",
    "\n",
    "# print(x.year)\n",
    "print(x.strftime(\"%c\"))"
   ]
  },
  {
   "cell_type": "code",
   "execution_count": null,
   "id": "bf58db15",
   "metadata": {},
   "outputs": [],
   "source": [
    "# To read excel file \n",
    "# import pandas as pd\n",
    "# df = pd.read_excel('filename)"
   ]
  },
  {
   "cell_type": "code",
   "execution_count": 16,
   "id": "2065f8c7",
   "metadata": {},
   "outputs": [
    {
     "name": "stdout",
     "output_type": "stream",
     "text": [
      "Enter name = Manoj\n",
      "0:00:14.377080\n"
     ]
    }
   ],
   "source": [
    "import datetime\n",
    "\n",
    "x = datetime.datetime.now()\n",
    "name = input(\"Enter name = \")\n",
    "y = datetime.datetime.now()\n",
    "print(y-x)"
   ]
  },
  {
   "cell_type": "code",
   "execution_count": 18,
   "id": "366dd1eb",
   "metadata": {},
   "outputs": [
    {
     "data": {
      "text/plain": [
       "[' web scrapping amsterdams.ipynb',\n",
       " '.git',\n",
       " '.ipynb_checkpoints',\n",
       " 'Array.ipynb',\n",
       " 'bill',\n",
       " 'bill.csv',\n",
       " 'bill.txt',\n",
       " 'bonus.ipynb',\n",
       " 'boooks.csv',\n",
       " 'covid_data.csv',\n",
       " 'data.csv',\n",
       " 'data.txt',\n",
       " 'database xampp.ipynb',\n",
       " 'Day 1 Practice.ipynb',\n",
       " 'dictionary and set.ipynb',\n",
       " 'Files.ipynb',\n",
       " 'firstclass.ipynb',\n",
       " 'housing.csv',\n",
       " 'list_data.csv',\n",
       " 'manoj.txt',\n",
       " 'new_data.csv',\n",
       " 'OOP with inheritence.ipynb',\n",
       " 'Pandas.ipynb',\n",
       " 'project 2.ipynb',\n",
       " 'string class.ipynb',\n",
       " 'Untitled.ipynb',\n",
       " 'Untitled1.ipynb',\n",
       " 'Untitled3.ipynb',\n",
       " 'web scrapping',\n",
       " 'web scrapping.ipynb']"
      ]
     },
     "execution_count": 18,
     "metadata": {},
     "output_type": "execute_result"
    }
   ],
   "source": [
    "import os\n",
    "os.listdir()"
   ]
  },
  {
   "cell_type": "code",
   "execution_count": 19,
   "id": "21b6074e",
   "metadata": {},
   "outputs": [],
   "source": [
    "os.mkdir('Newfolder')"
   ]
  },
  {
   "cell_type": "code",
   "execution_count": 21,
   "id": "988995bf",
   "metadata": {},
   "outputs": [],
   "source": [
    "os.chdir('Newfolder')#to enter into the flderr"
   ]
  },
  {
   "cell_type": "code",
   "execution_count": 22,
   "id": "2e53b88f",
   "metadata": {},
   "outputs": [
    {
     "data": {
      "text/plain": [
       "'C:\\\\Users\\\\USER\\\\Desktop\\\\Pythonprograms\\\\Newfolder'"
      ]
     },
     "execution_count": 22,
     "metadata": {},
     "output_type": "execute_result"
    }
   ],
   "source": [
    "pwd"
   ]
  },
  {
   "cell_type": "code",
   "execution_count": 23,
   "id": "22879dbe",
   "metadata": {},
   "outputs": [
    {
     "name": "stdout",
     "output_type": "stream",
     "text": [
      "C:\\Users\\USER\\Desktop\\Pythonprograms\n"
     ]
    }
   ],
   "source": [
    "cd .."
   ]
  },
  {
   "cell_type": "code",
   "execution_count": null,
   "id": "aebf7bba",
   "metadata": {},
   "outputs": [],
   "source": [
    "n = int(input(\"Enter n = \"))\n",
    "for i in range (n):\n",
    "    x = int(input(f\"Enter {i} value = \"))\n",
    "    print (x)"
   ]
  },
  {
   "cell_type": "markdown",
   "id": "2a82026a",
   "metadata": {},
   "source": [
    "###### sub = ['Physics','chemistry''math']\n",
    "n = int(input(\"Enter n = \"))\n",
    "for i in range (n):\n",
    "    x = int(input(f\"Enter {sub[i]} marks = \"))\n",
    "    print (x)"
   ]
  },
  {
   "cell_type": "code",
   "execution_count": 3,
   "id": "ff80d126",
   "metadata": {},
   "outputs": [
    {
     "name": "stdout",
     "output_type": "stream",
     "text": [
      "Enter n = 3\n",
      "Enter Physics marks = 45\n",
      "45\n",
      "Enter chemistry marks = 45\n",
      "45\n",
      "Enter math marks = 34\n",
      "34\n"
     ]
    }
   ],
   "source": [
    "sub = ['Physics','chemistry','math']\n",
    "n = int(input(\"Enter n = \"))\n",
    "for i in range (n):\n",
    "    x = int(input(f\"Enter {sub[i]} marks = \"))\n",
    "    print (x)"
   ]
  },
  {
   "cell_type": "code",
   "execution_count": 1,
   "id": "becb5089",
   "metadata": {},
   "outputs": [
    {
     "name": "stdout",
     "output_type": "stream",
     "text": [
      "Hello World\n"
     ]
    }
   ],
   "source": [
    "# decorator\n",
    "\n",
    "def outer_function(fun):\n",
    "    \n",
    "    def inner_function():\n",
    "        x = fun()\n",
    "    return inner_function()\n",
    "\n",
    "@outer_function\n",
    "def hello():\n",
    "    print(\"Hello World\")\n",
    "    "
   ]
  },
  {
   "cell_type": "code",
   "execution_count": 4,
   "id": "870eff20",
   "metadata": {},
   "outputs": [
    {
     "data": {
      "text/plain": [
       "'hello world'"
      ]
     },
     "execution_count": 4,
     "metadata": {},
     "output_type": "execute_result"
    }
   ],
   "source": [
    "def strings(function):\n",
    "    def wrapper():\n",
    "        fun = function()\n",
    "        x = fun.lower()\n",
    "        return x\n",
    "    return wrapper\n",
    "@strings\n",
    "def info():\n",
    "    return 'Hello World'\n",
    "info()"
   ]
  },
  {
   "cell_type": "code",
   "execution_count": 6,
   "id": "fdc5decb",
   "metadata": {},
   "outputs": [
    {
     "data": {
      "text/plain": [
       "['hello', 'world']"
      ]
     },
     "execution_count": 6,
     "metadata": {},
     "output_type": "execute_result"
    }
   ],
   "source": [
    "def strings(function):\n",
    "    def wrapper():\n",
    "        fun = function()\n",
    "        x = fun.lower()\n",
    "        return x\n",
    "    return wrapper\n",
    "\n",
    "\n",
    "def split_string(function):\n",
    "    def wrappe():\n",
    "        func = function()\n",
    "        splitted_string = func.split()\n",
    "        return splitted_string\n",
    "    return wrappe\n",
    "\n",
    "@split_string\n",
    "@strings\n",
    "def info():\n",
    "    return 'Hello World'\n",
    "info()"
   ]
  }
 ],
 "metadata": {
  "kernelspec": {
   "display_name": "Python 3 (ipykernel)",
   "language": "python",
   "name": "python3"
  },
  "language_info": {
   "codemirror_mode": {
    "name": "ipython",
    "version": 3
   },
   "file_extension": ".py",
   "mimetype": "text/x-python",
   "name": "python",
   "nbconvert_exporter": "python",
   "pygments_lexer": "ipython3",
   "version": "3.9.13"
  }
 },
 "nbformat": 4,
 "nbformat_minor": 5
}
