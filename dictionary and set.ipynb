{
 "cells": [
  {
   "cell_type": "code",
   "execution_count": null,
   "id": "3201aa01",
   "metadata": {},
   "outputs": [],
   "source": [
    "# dictionary inside dictionary\n",
    "# info = {1:{'name':'Rama','age'=23,'add':'ktm'},\n",
    "#         2:{'name':'Shyam','age':34,'add':'Bara'}}"
   ]
  },
  {
   "cell_type": "code",
   "execution_count": 14,
   "id": "c7fedd71",
   "metadata": {},
   "outputs": [
    {
     "name": "stdout",
     "output_type": "stream",
     "text": [
      "Enter a number: 2\n",
      "Enter a name: ram\n",
      "Enter the age: 34\n",
      "Enter the address: palpa\n",
      "Enter a name: hari\n",
      "Enter the age: 45\n",
      "Enter the address: butwal\n",
      "{1: {'name': 'ram', 'age': 34, 'add': 'palpa'}, 2: {'name': 'hari', 'age': 45, 'add': 'butwal'}}\n"
     ]
    }
   ],
   "source": [
    "data ={}\n",
    "n=int(input(\"Enter a number: \"))\n",
    "for i in range(1,n+1):\n",
    "    name = input(\"Enter a name: \")\n",
    "    age = int(input(\"Enter the age: \"))\n",
    "    add = input(\"Enter the address: \")\n",
    "    info = {'name':name,'age':age,'add':add}\n",
    "    data[i]=info\n",
    "    \n",
    "print(data)"
   ]
  },
  {
   "cell_type": "code",
   "execution_count": 2,
   "id": "6da7f91a",
   "metadata": {},
   "outputs": [
    {
     "data": {
      "text/plain": [
       "{1: {'name': 'ram', 'age': 34, 'add': 'palpa'},\n",
       " 3: {'name': 'Nabin', 'age': 46, 'add': 'Chitwan'}}"
      ]
     },
     "execution_count": 2,
     "metadata": {},
     "output_type": "execute_result"
    }
   ],
   "source": [
    "data[3]={'name':\"Nabin\",'age':46,'add':\"Chitwan\"}\n",
    "data\n"
   ]
  },
  {
   "cell_type": "code",
   "execution_count": 3,
   "id": "2b0c46a8",
   "metadata": {},
   "outputs": [
    {
     "data": {
      "text/plain": [
       "{1: {'name': 'ram', 'age': 34, 'add': 'palpa'},\n",
       " 3: {'name': 'Nabin', 'age': 22, 'add': 'Chitwan'}}"
      ]
     },
     "execution_count": 3,
     "metadata": {},
     "output_type": "execute_result"
    }
   ],
   "source": [
    "data [3]['age']=22\n",
    "data"
   ]
  },
  {
   "cell_type": "code",
   "execution_count": null,
   "id": "3cf742c8",
   "metadata": {},
   "outputs": [],
   "source": [
    "info = {1:{'name':'Rama','age'=23,'add':{'permanent':'Jhapa','temporary':'kathmandu'}},\n",
    "         2:{'name':'Shyam','age':34,'add':{'permanent':'Jhapa','temporary':'kathmandu'}}}"
   ]
  },
  {
   "cell_type": "code",
   "execution_count": 4,
   "id": "5ff3ab6e",
   "metadata": {},
   "outputs": [
    {
     "data": {
      "text/plain": [
       "{('ram', 'shyam'): 98463553, ('hari', 'sita'): 9743465}"
      ]
     },
     "execution_count": 4,
     "metadata": {},
     "output_type": "execute_result"
    }
   ],
   "source": [
    "d={('ram','shyam'): 98463553,\n",
    "  ('hari','sita'):9743465}\n",
    "d\n"
   ]
  },
  {
   "cell_type": "code",
   "execution_count": 6,
   "id": "b2f86ba3",
   "metadata": {},
   "outputs": [
    {
     "data": {
      "text/plain": [
       "98463553"
      ]
     },
     "execution_count": 6,
     "metadata": {},
     "output_type": "execute_result"
    }
   ],
   "source": [
    "d[('ram','shyam')]"
   ]
  },
  {
   "cell_type": "code",
   "execution_count": null,
   "id": "c5bd9c27",
   "metadata": {},
   "outputs": [],
   "source": [
    "# SET\n",
    "# -No indexing\n",
    "# -Unordered\n",
    "# -No duplicate\n",
    "# -Mutable"
   ]
  },
  {
   "cell_type": "code",
   "execution_count": 7,
   "id": "14d0139e",
   "metadata": {},
   "outputs": [
    {
     "data": {
      "text/plain": [
       "set"
      ]
     },
     "execution_count": 7,
     "metadata": {},
     "output_type": "execute_result"
    }
   ],
   "source": [
    "s= set()\n",
    "type(s)"
   ]
  },
  {
   "cell_type": "code",
   "execution_count": 8,
   "id": "c5355b93",
   "metadata": {},
   "outputs": [
    {
     "data": {
      "text/plain": [
       "{6, 123, 456, 545, 546}"
      ]
     },
     "execution_count": 8,
     "metadata": {},
     "output_type": "execute_result"
    }
   ],
   "source": [
    "s={123,456,6,545,546}\n",
    "s"
   ]
  },
  {
   "cell_type": "code",
   "execution_count": 9,
   "id": "6e1beb36",
   "metadata": {},
   "outputs": [
    {
     "data": {
      "text/plain": [
       "{'Ant', 'Apple', 'Ball', 'Zebra', 'cat'}"
      ]
     },
     "execution_count": 9,
     "metadata": {},
     "output_type": "execute_result"
    }
   ],
   "source": [
    "s={'Apple','Ball','Ant','Zebra','cat'}\n",
    "s"
   ]
  },
  {
   "cell_type": "code",
   "execution_count": 10,
   "id": "e7f583aa",
   "metadata": {},
   "outputs": [
    {
     "name": "stdout",
     "output_type": "stream",
     "text": [
      "{(1, 2, 3), (4, 5, 6)}\n"
     ]
    }
   ],
   "source": [
    "a = {(1,2,3),(4,5,6)}\n",
    "print (a)"
   ]
  },
  {
   "cell_type": "code",
   "execution_count": 11,
   "id": "4a8bcbc0",
   "metadata": {},
   "outputs": [
    {
     "data": {
      "text/plain": [
       "{'Apple', 'Ball'}"
      ]
     },
     "execution_count": 11,
     "metadata": {},
     "output_type": "execute_result"
    }
   ],
   "source": [
    "s=set()\n",
    "s.add('Apple')\n",
    "s.add('Ball')\n",
    "s"
   ]
  },
  {
   "cell_type": "code",
   "execution_count": 15,
   "id": "31f253f8",
   "metadata": {},
   "outputs": [
    {
     "data": {
      "text/plain": [
       "{'John', 'Suman'}"
      ]
     },
     "execution_count": 15,
     "metadata": {},
     "output_type": "execute_result"
    }
   ],
   "source": [
    "ms ={'Bill','John','Mike','Satya','Sumit','Suman'}\n",
    "apple = {'Jobs','Steave','Sun','John','pukar','Suman'}\n",
    "ms.intersection(apple)\n"
   ]
  },
  {
   "cell_type": "code",
   "execution_count": 18,
   "id": "f4493403",
   "metadata": {},
   "outputs": [
    {
     "data": {
      "text/plain": [
       "{'Bill', 'Jobs', 'John', 'Mike', 'Satya', 'Steave', 'Suman', 'Sun', 'pukar'}"
      ]
     },
     "execution_count": 18,
     "metadata": {},
     "output_type": "execute_result"
    }
   ],
   "source": [
    "ms.union(apple)"
   ]
  },
  {
   "cell_type": "code",
   "execution_count": 19,
   "id": "af754bb6",
   "metadata": {},
   "outputs": [
    {
     "name": "stdout",
     "output_type": "stream",
     "text": [
      "{'Mike', 'Sumit', 'Satya', 'Bill'}\n",
      "{'Sun', 'Jobs', 'Steave', 'pukar'}\n"
     ]
    },
    {
     "data": {
      "text/plain": [
       "{'Moon'}"
      ]
     },
     "execution_count": 19,
     "metadata": {},
     "output_type": "execute_result"
    }
   ],
   "source": [
    "U = {'Bill', 'Jobs', 'John', 'Mike', 'Satya', 'Steave', 'Suman', 'Sun', 'pukar','Moon'}\n",
    "ms ={'Bill','John','Mike','Satya','Sumit','Suman'}\n",
    "apple = {'Jobs','Steave','Sun','John','pukar','Suman'}\n",
    "print(ms-apple)\n",
    "print(apple-ms)\n",
    "U-ms.union(apple)"
   ]
  },
  {
   "cell_type": "code",
   "execution_count": 4,
   "id": "20339f2e",
   "metadata": {},
   "outputs": [
    {
     "name": "stdout",
     "output_type": "stream",
     "text": [
      "Enter a number: 1\n",
      "Enter a car name: gjfg\n",
      "Enter the model of the car: jhsfg\n",
      "Enter the price of the car: 46364\n",
      "{'gjfg': ['jhsfg', 46364]}\n"
     ]
    }
   ],
   "source": [
    "data ={}\n",
    "n=int(input(\"Enter a number: \"))\n",
    "for i in range(1,n+1):\n",
    "    vehicle= input(\"Enter a vehicle  name: \")\n",
    "    \n",
    "    model= input(\"Enter the model of the car: \")\n",
    "    price=int(input(\"Enter the price of the car: \"))\n",
    "    data[vehicle]=[model,price]\n",
    "    \n",
    "    \n",
    "    \n",
    "print(data)"
   ]
  },
  {
   "cell_type": "code",
   "execution_count": null,
   "id": "f7c06b60",
   "metadata": {},
   "outputs": [],
   "source": []
  },
  {
   "cell_type": "code",
   "execution_count": null,
   "id": "e4255950",
   "metadata": {},
   "outputs": [],
   "source": []
  },
  {
   "cell_type": "code",
   "execution_count": null,
   "id": "5f195d99",
   "metadata": {},
   "outputs": [],
   "source": []
  },
  {
   "cell_type": "code",
   "execution_count": null,
   "id": "03d05869",
   "metadata": {},
   "outputs": [],
   "source": []
  }
 ],
 "metadata": {
  "kernelspec": {
   "display_name": "Python 3 (ipykernel)",
   "language": "python",
   "name": "python3"
  },
  "language_info": {
   "codemirror_mode": {
    "name": "ipython",
    "version": 3
   },
   "file_extension": ".py",
   "mimetype": "text/x-python",
   "name": "python",
   "nbconvert_exporter": "python",
   "pygments_lexer": "ipython3",
   "version": "3.9.13"
  }
 },
 "nbformat": 4,
 "nbformat_minor": 5
}
