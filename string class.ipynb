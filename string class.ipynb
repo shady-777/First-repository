{
 "cells": [
  {
   "cell_type": "code",
   "execution_count": 1,
   "id": "b3b0a6d5",
   "metadata": {},
   "outputs": [
    {
     "name": "stdout",
     "output_type": "stream",
     "text": [
      "<class 'str'>\n"
     ]
    }
   ],
   "source": [
    "#string\n",
    "a = \"Hello World\"\n",
    "b = 'hello World'\n",
    "print (type(a))"
   ]
  },
  {
   "cell_type": "code",
   "execution_count": 3,
   "id": "b530e856",
   "metadata": {},
   "outputs": [
    {
     "name": "stdout",
     "output_type": "stream",
     "text": [
      "Hello World"
     ]
    }
   ],
   "source": [
    "for i in a:\n",
    "    print(i,end =\"\")\n",
    "    "
   ]
  },
  {
   "cell_type": "code",
   "execution_count": 4,
   "id": "73be0c0e",
   "metadata": {},
   "outputs": [
    {
     "name": "stdout",
     "output_type": "stream",
     "text": [
      "Enter a = 2\n",
      "2\n"
     ]
    },
    {
     "data": {
      "text/plain": [
       "'H'"
      ]
     },
     "execution_count": 4,
     "metadata": {},
     "output_type": "execute_result"
    }
   ],
   "source": [
    "a = input(\"Enter a = \")\n",
    "print(a)\n",
    "b = \"Hello world\"\n",
    "b[0]name\n",
    "b[0:8]\n",
    "b[0:8:2]\n",
    "#string slicing"
   ]
  },
  {
   "cell_type": "code",
   "execution_count": 7,
   "id": "780238da",
   "metadata": {},
   "outputs": [
    {
     "ename": "TypeError",
     "evalue": "'int' object is not subscriptable",
     "output_type": "error",
     "traceback": [
      "\u001b[1;31m---------------------------------------------------------------------------\u001b[0m",
      "\u001b[1;31mTypeError\u001b[0m                                 Traceback (most recent call last)",
      "\u001b[1;32m~\\AppData\\Local\\Temp\\ipykernel_7804\\2514202704.py\u001b[0m in \u001b[0;36m<module>\u001b[1;34m\u001b[0m\n\u001b[0;32m      2\u001b[0m \u001b[0mb\u001b[0m \u001b[1;33m=\u001b[0m \u001b[0mlen\u001b[0m\u001b[1;33m(\u001b[0m\u001b[0mb\u001b[0m\u001b[1;33m)\u001b[0m\u001b[1;33m\u001b[0m\u001b[1;33m\u001b[0m\u001b[0m\n\u001b[0;32m      3\u001b[0m \u001b[0mb\u001b[0m\u001b[1;33m\u001b[0m\u001b[1;33m\u001b[0m\u001b[0m\n\u001b[1;32m----> 4\u001b[1;33m \u001b[0mb\u001b[0m\u001b[1;33m[\u001b[0m\u001b[1;33m-\u001b[0m\u001b[1;36m1\u001b[0m\u001b[1;33m:\u001b[0m\u001b[1;36m0\u001b[0m\u001b[1;33m]\u001b[0m\u001b[1;33m\u001b[0m\u001b[1;33m\u001b[0m\u001b[0m\n\u001b[0m\u001b[0;32m      5\u001b[0m \u001b[0mb\u001b[0m\u001b[1;33m[\u001b[0m\u001b[1;33m-\u001b[0m\u001b[1;36m1\u001b[0m\u001b[1;33m:\u001b[0m\u001b[1;33m:\u001b[0m\u001b[1;33m-\u001b[0m\u001b[1;36m1\u001b[0m\u001b[1;33m]\u001b[0m\u001b[1;33m\u001b[0m\u001b[1;33m\u001b[0m\u001b[0m\n",
      "\u001b[1;31mTypeError\u001b[0m: 'int' object is not subscriptable"
     ]
    }
   ],
   "source": [
    "b = \"Hello world\"\n",
    "b = len(b)\n",
    "b\n",
    "b[-1:0]\n",
    "b[-1::-1]"
   ]
  },
  {
   "cell_type": "code",
   "execution_count": 4,
   "id": "1187ef58",
   "metadata": {},
   "outputs": [
    {
     "name": "stdout",
     "output_type": "stream",
     "text": [
      "Hello World I am Ram I am from Kathmandu i am 23\n"
     ]
    }
   ],
   "source": [
    "name=\"Ram\"\n",
    "age=23\n",
    "add=\"Kathmandu\"\n",
    "info= \"Hello World I am \"+name +\" I am from \"+add+\" i am \"+str(age)\n",
    "print(info)"
   ]
  },
  {
   "cell_type": "code",
   "execution_count": null,
   "id": "85c933fe",
   "metadata": {},
   "outputs": [],
   "source": [
    "name=input(\"Enter name= \")\n",
    "age=input(\"Enter age= \")\n",
    "add=input(\"Enter add= \")\n",
    "\n",
    "info = f\"Hello world I am {name}. iam from{add}. iam {age}\"\n",
    "print (info)"
   ]
  },
  {
   "cell_type": "code",
   "execution_count": 10,
   "id": "1708cdbc",
   "metadata": {},
   "outputs": [
    {
     "name": "stdout",
     "output_type": "stream",
     "text": [
      "Enter n = 2\n",
      "Enter name= ggg\n",
      "Enter price= 67\n",
      "Enter quantity= 1\n",
      "Enter name= handsome\n",
      "Enter price= 50\n",
      "Enter quantity= 2\n",
      "all total =  167\n",
      "ggg 67 1 67\n",
      "handsome 50 2 100\n",
      "\n"
     ]
    }
   ],
   "source": [
    "s=0\n",
    "n = int(input(\"Enter n = \"))\n",
    "bill = str()\n",
    "\n",
    "for i in range (n):\n",
    "    \n",
    "    name=input(\"Enter name= \")\n",
    "    price=int(input(\"Enter price= \"))\n",
    "    \n",
    "    quantity=int(input(\"Enter quantity= \"))\n",
    "    total= price*quantity\n",
    "    \n",
    "    bill = bill +f\"{name} {price} {quantity} {total}\\n\"\n",
    "    \n",
    "    s =s+total\n",
    "print(\"all total = \",s)\n",
    "print(bill)\n",
    "    "
   ]
  },
  {
   "cell_type": "code",
   "execution_count": null,
   "id": "ad7aeed1",
   "metadata": {},
   "outputs": [],
   "source": [
    "a=\"Ram Shyam Hari Sita Gita Ram\".lower()\n",
    "b=input(\"Enter search value=\").lower\n",
    "if b in a:\n",
    "    print(\"Yes there is\",b)\n",
    "    print(a.count(b))\n",
    "else:\n",
    "    print (\"No\")\n",
    "    "
   ]
  },
  {
   "cell_type": "code",
   "execution_count": null,
   "id": "d94e1613",
   "metadata": {},
   "outputs": [],
   "source": [
    "a = input(\"Enter any number+ \")\n",
    "b = input(\"Enter next number= \")\n",
    "if a==b[::-1]:\n",
    "    print(\"Yes\")\n",
    "else:\n",
    "    print(\"No\")"
   ]
  },
  {
   "cell_type": "code",
   "execution_count": 4,
   "id": "02d5ca5e",
   "metadata": {},
   "outputs": [
    {
     "data": {
      "text/plain": [
       "'RamPrasad Shyam Hari Sita Gita RamPrasad'"
      ]
     },
     "execution_count": 4,
     "metadata": {},
     "output_type": "execute_result"
    }
   ],
   "source": [
    "#replace\n",
    "a=\"Ram Shyam Hari Sita Gita Ram\"\n",
    "a.replace(\"Ram\",\"RamPrasad\")\n"
   ]
  },
  {
   "cell_type": "code",
   "execution_count": 5,
   "id": "b03794ee",
   "metadata": {},
   "outputs": [
    {
     "name": "stdout",
     "output_type": "stream",
     "text": [
      "Ram Shyam Hari Sita Gita Ram\n"
     ]
    }
   ],
   "source": [
    "print(a)"
   ]
  },
  {
   "cell_type": "code",
   "execution_count": 1,
   "id": "6d583542",
   "metadata": {},
   "outputs": [
    {
     "name": "stdout",
     "output_type": "stream",
     "text": [
      "World    he\n",
      "helloi World\n",
      "   helloi World\n",
      "   hello  World\n",
      "['   hello', ' World']\n"
     ]
    }
   ],
   "source": [
    "a= \"   helloi World\"\n",
    "print(a[-5:],a[0:5])\n",
    "print (a.strip())#removes the spaces before and after the strings\n",
    "print (a)\n",
    "print(a.replace('i',' '))#replace the string\n",
    "print(a.split(\"i\"))"
   ]
  },
  {
   "cell_type": "code",
   "execution_count": 3,
   "id": "80ec2cd7",
   "metadata": {},
   "outputs": [
    {
     "name": "stdout",
     "output_type": "stream",
     "text": [
      "Enter the secret number: 3\n",
      "Enter any number: 2\n",
      "false\n",
      "Enter any number: 2\n",
      "false\n",
      "Enter any number: 2\n",
      "false\n"
     ]
    }
   ],
   "source": [
    "secret=int(input(\"Enter the secret number: \"))\n",
    "for i in range(3):\n",
    "    \n",
    "    \n",
    "\n",
    "    a=int(input(\"Enter any number: \"))\n",
    "    if a==secret:\n",
    "        print(\"true\")\n",
    "        break\n",
    "    \n",
    "    else:\n",
    "        print(\"false\")\n",
    "\n",
    "\n",
    "\n",
    "        \n"
   ]
  },
  {
   "cell_type": "code",
   "execution_count": null,
   "id": "5f41b11e",
   "metadata": {},
   "outputs": [
    {
     "name": "stdout",
     "output_type": "stream",
     "text": [
      "Enter the number: 4\n",
      "you lose the game\n",
      "None\n",
      "Enter the number: 5\n",
      "Congratulation you guessed the number\n",
      "You win the game\n",
      "None\n"
     ]
    }
   ],
   "source": [
    "\n",
    "def game(a):\n",
    "    secret=5\n",
    "    \n",
    "    a=int(input(\"Enter the number: \"))\n",
    "    if a==secret:\n",
    "        print(b)\n",
    "        print(\"You win the game\")\n",
    "                \n",
    "            \n",
    "    else:\n",
    "            print(\"you lose the game\")\n",
    "b=\"Congratulation you guessed the number\"\n",
    "for i in range(3):\n",
    "    \n",
    "    print(game(i))\n"
   ]
  }
 ],
 "metadata": {
  "kernelspec": {
   "display_name": "Python 3 (ipykernel)",
   "language": "python",
   "name": "python3"
  },
  "language_info": {
   "codemirror_mode": {
    "name": "ipython",
    "version": 3
   },
   "file_extension": ".py",
   "mimetype": "text/x-python",
   "name": "python",
   "nbconvert_exporter": "python",
   "pygments_lexer": "ipython3",
   "version": "3.9.13"
  }
 },
 "nbformat": 4,
 "nbformat_minor": 5
}
